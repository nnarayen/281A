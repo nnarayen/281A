{
 "cells": [
  {
   "cell_type": "markdown",
   "metadata": {},
   "source": [
    "### Extracting data from the JSON files"
   ]
  },
  {
   "cell_type": "code",
   "execution_count": 137,
   "metadata": {
    "collapsed": true
   },
   "outputs": [],
   "source": [
    "DATA_SIZE = 1569264\n",
    "SAMPLE_SIZE = 70000\n",
    "TRAIN_SIZE = 60000"
   ]
  },
  {
   "cell_type": "code",
   "execution_count": 139,
   "metadata": {
    "collapsed": false
   },
   "outputs": [],
   "source": [
    "import numpy as np\n",
    "import json \n",
    "import pandas\n",
    "\n",
    "business_ratings = { }\n",
    "for line in open(\"data/yelp_academic_dataset_business.json\", \"r\"):\n",
    "    json_data = json.loads(line)\n",
    "    business_ratings[json_data[\"business_id\"]] = json_data[\"stars\"]\n",
    "#selected_businesses = set(np.random.choice(business_ratings.keys(), size = 2000, replace = False))\n",
    "    \n",
    "review_list = []\n",
    "\n",
    "selected = set(np.random.choice(np.arange(DATA_SIZE), size=SAMPLE_SIZE, replace=False))\n",
    "for line_num, line in enumerate(open(\"data/yelp_academic_dataset_review.json\", \"r\")):\n",
    "    if line_num in selected:\n",
    "        json_data = json.loads(line)\n",
    "        review_list.append([json_data[\"review_id\"], json_data[\"stars\"], json_data[\"text\"], json_data[\"business_id\"]])\n",
    "        \n",
    "review_pd = pandas.DataFrame(review_list, columns = [\"Review ID\", \"Stars\", \"Review Text\", \"Business ID\"])"
   ]
  },
  {
   "cell_type": "markdown",
   "metadata": {},
   "source": [
    "### Tokenizing the review text"
   ]
  },
  {
   "cell_type": "code",
   "execution_count": 140,
   "metadata": {
    "collapsed": false
   },
   "outputs": [],
   "source": [
    "import sys\n",
    "import string\n",
    "import unicodedata\n",
    "from nltk.tokenize import RegexpTokenizer\n",
    "\n",
    "tbl = dict.fromkeys(i for i in xrange(sys.maxunicode) if unicodedata.category(unichr(i)).startswith('P'))\n",
    "\n",
    "def tokenize(text):\n",
    "    return text.translate(tbl).lower().split()\n",
    "\n",
    "review_pd[\"Tokenized Text\"] = review_pd[\"Review Text\"].apply(tokenize)"
   ]
  },
  {
   "cell_type": "code",
   "execution_count": 4,
   "metadata": {
    "collapsed": false
   },
   "outputs": [
    {
     "data": {
      "text/html": [
       "<div>\n",
       "<table border=\"1\" class=\"dataframe\">\n",
       "  <thead>\n",
       "    <tr style=\"text-align: right;\">\n",
       "      <th></th>\n",
       "      <th>Review ID</th>\n",
       "      <th>Stars</th>\n",
       "      <th>Review Text</th>\n",
       "      <th>Business ID</th>\n",
       "      <th>Tokenized Text</th>\n",
       "    </tr>\n",
       "  </thead>\n",
       "  <tbody>\n",
       "    <tr>\n",
       "      <th>0</th>\n",
       "      <td>XsEghKHgnKLG1j1_oi1DeA</td>\n",
       "      <td>2</td>\n",
       "      <td>This Giant Eagle truly is giant!  And believe ...</td>\n",
       "      <td>BG4N0V93wml9kaU6YYRxRA</td>\n",
       "      <td>[this, giant, eagle, truly, is, giant, and, be...</td>\n",
       "    </tr>\n",
       "    <tr>\n",
       "      <th>1</th>\n",
       "      <td>8D45qGrqu1kqNrHwbFBcog</td>\n",
       "      <td>2</td>\n",
       "      <td>I have to agree that this is one of the poor e...</td>\n",
       "      <td>BG4N0V93wml9kaU6YYRxRA</td>\n",
       "      <td>[i, have, to, agree, that, this, is, one, of, ...</td>\n",
       "    </tr>\n",
       "    <tr>\n",
       "      <th>2</th>\n",
       "      <td>lSIgshZ-whIhru0zuT4hPg</td>\n",
       "      <td>5</td>\n",
       "      <td>I am emotionally attached to this place.This p...</td>\n",
       "      <td>BG4N0V93wml9kaU6YYRxRA</td>\n",
       "      <td>[i, am, emotionally, attached, to, this, place...</td>\n",
       "    </tr>\n",
       "    <tr>\n",
       "      <th>3</th>\n",
       "      <td>_zEDqXNOYaf7rBKiAc2e_A</td>\n",
       "      <td>2</td>\n",
       "      <td>I cannot in my life understand why this Giant ...</td>\n",
       "      <td>BG4N0V93wml9kaU6YYRxRA</td>\n",
       "      <td>[i, cannot, in, my, life, understand, why, thi...</td>\n",
       "    </tr>\n",
       "    <tr>\n",
       "      <th>4</th>\n",
       "      <td>OCaFvItTD4LHox1Wig-3rg</td>\n",
       "      <td>2</td>\n",
       "      <td>This Giant Eagle seems more like a GetGo than ...</td>\n",
       "      <td>BG4N0V93wml9kaU6YYRxRA</td>\n",
       "      <td>[this, giant, eagle, seems, more, like, a, get...</td>\n",
       "    </tr>\n",
       "  </tbody>\n",
       "</table>\n",
       "</div>"
      ],
      "text/plain": [
       "                Review ID  Stars  \\\n",
       "0  XsEghKHgnKLG1j1_oi1DeA      2   \n",
       "1  8D45qGrqu1kqNrHwbFBcog      2   \n",
       "2  lSIgshZ-whIhru0zuT4hPg      5   \n",
       "3  _zEDqXNOYaf7rBKiAc2e_A      2   \n",
       "4  OCaFvItTD4LHox1Wig-3rg      2   \n",
       "\n",
       "                                         Review Text             Business ID  \\\n",
       "0  This Giant Eagle truly is giant!  And believe ...  BG4N0V93wml9kaU6YYRxRA   \n",
       "1  I have to agree that this is one of the poor e...  BG4N0V93wml9kaU6YYRxRA   \n",
       "2  I am emotionally attached to this place.This p...  BG4N0V93wml9kaU6YYRxRA   \n",
       "3  I cannot in my life understand why this Giant ...  BG4N0V93wml9kaU6YYRxRA   \n",
       "4  This Giant Eagle seems more like a GetGo than ...  BG4N0V93wml9kaU6YYRxRA   \n",
       "\n",
       "                                      Tokenized Text  \n",
       "0  [this, giant, eagle, truly, is, giant, and, be...  \n",
       "1  [i, have, to, agree, that, this, is, one, of, ...  \n",
       "2  [i, am, emotionally, attached, to, this, place...  \n",
       "3  [i, cannot, in, my, life, understand, why, thi...  \n",
       "4  [this, giant, eagle, seems, more, like, a, get...  "
      ]
     },
     "execution_count": 4,
     "metadata": {},
     "output_type": "execute_result"
    }
   ],
   "source": [
    "review_pd.head()"
   ]
  },
  {
   "cell_type": "code",
   "execution_count": 93,
   "metadata": {
    "collapsed": false
   },
   "outputs": [
    {
     "data": {
      "text/plain": [
       "(53475, 5)"
      ]
     },
     "execution_count": 93,
     "metadata": {},
     "output_type": "execute_result"
    }
   ],
   "source": [
    "review_pd.shape"
   ]
  },
  {
   "cell_type": "code",
   "execution_count": 12,
   "metadata": {
    "collapsed": false
   },
   "outputs": [
    {
     "data": {
      "text/html": [
       "<div>\n",
       "<table border=\"1\" class=\"dataframe\">\n",
       "  <thead>\n",
       "    <tr style=\"text-align: right;\">\n",
       "      <th></th>\n",
       "      <th>Review ID</th>\n",
       "      <th>Review Text</th>\n",
       "      <th>Business ID</th>\n",
       "      <th>Tokenized Text</th>\n",
       "    </tr>\n",
       "    <tr>\n",
       "      <th>Stars</th>\n",
       "      <th></th>\n",
       "      <th></th>\n",
       "      <th></th>\n",
       "      <th></th>\n",
       "    </tr>\n",
       "  </thead>\n",
       "  <tbody>\n",
       "    <tr>\n",
       "      <th>1</th>\n",
       "      <td>5179</td>\n",
       "      <td>5179</td>\n",
       "      <td>5179</td>\n",
       "      <td>5179</td>\n",
       "    </tr>\n",
       "    <tr>\n",
       "      <th>2</th>\n",
       "      <td>4656</td>\n",
       "      <td>4656</td>\n",
       "      <td>4656</td>\n",
       "      <td>4656</td>\n",
       "    </tr>\n",
       "    <tr>\n",
       "      <th>3</th>\n",
       "      <td>7065</td>\n",
       "      <td>7065</td>\n",
       "      <td>7065</td>\n",
       "      <td>7065</td>\n",
       "    </tr>\n",
       "    <tr>\n",
       "      <th>4</th>\n",
       "      <td>15609</td>\n",
       "      <td>15609</td>\n",
       "      <td>15609</td>\n",
       "      <td>15609</td>\n",
       "    </tr>\n",
       "    <tr>\n",
       "      <th>5</th>\n",
       "      <td>20966</td>\n",
       "      <td>20966</td>\n",
       "      <td>20966</td>\n",
       "      <td>20966</td>\n",
       "    </tr>\n",
       "  </tbody>\n",
       "</table>\n",
       "</div>"
      ],
      "text/plain": [
       "       Review ID  Review Text  Business ID  Tokenized Text\n",
       "Stars                                                     \n",
       "1           5179         5179         5179            5179\n",
       "2           4656         4656         4656            4656\n",
       "3           7065         7065         7065            7065\n",
       "4          15609        15609        15609           15609\n",
       "5          20966        20966        20966           20966"
      ]
     },
     "execution_count": 12,
     "metadata": {},
     "output_type": "execute_result"
    }
   ],
   "source": [
    "%matplotlib inline\n",
    "review_pd.groupby(\"Stars\").count()"
   ]
  },
  {
   "cell_type": "markdown",
   "metadata": {},
   "source": [
    "### Manipulating data into LabeledSentences"
   ]
  },
  {
   "cell_type": "code",
   "execution_count": 129,
   "metadata": {
    "collapsed": true
   },
   "outputs": [],
   "source": [
    "from gensim.models.doc2vec import LabeledSentence\n",
    "import numpy as np\n",
    "\n",
    "class LabeledSentences:\n",
    "    \n",
    "    def __init__(self, series):\n",
    "        self.series = series\n",
    "        \n",
    "    def __iter__(self):\n",
    "        indexes = list(np.arange(len(self.series)))\n",
    "        np.random.shuffle(indexes)\n",
    "        for (index, wordlist) in self.series.iloc[indexes].iteritems():\n",
    "        #for (index, wordlist) in self.series.iteritems():\n",
    "            yield LabeledSentence(words = wordlist, tags = ['VEC_%s' % index])\n",
    "            \n",
    "sentences = LabeledSentences(review_pd[\"Tokenized Text\"].copy())"
   ]
  },
  {
   "cell_type": "markdown",
   "metadata": {},
   "source": [
    "### Learn vector representations for each word via Word2Vec"
   ]
  },
  {
   "cell_type": "code",
   "execution_count": 130,
   "metadata": {
    "collapsed": false
   },
   "outputs": [],
   "source": [
    "import multiprocessing\n",
    "import gensim\n",
    "from gensim.models import Doc2Vec\n",
    "\n",
    "assert gensim.models.doc2vec.FAST_VERSION > -1, \"This will be slow otherwise\"\n",
    "cores = multiprocessing.cpu_count()\n",
    "\n",
    "model = Doc2Vec(dm = 1, dm_concat = 0, min_count = 1, window = 10, size = 100, sample = 1e-4, negative = 5, \n",
    "                workers = cores, alpha = 0.025, min_alpha = 0.025)\n",
    "model.build_vocab(sentences)"
   ]
  },
  {
   "cell_type": "markdown",
   "metadata": {},
   "source": [
    "### Learn vector representations for each review text via Doc2Vec"
   ]
  },
  {
   "cell_type": "code",
   "execution_count": 131,
   "metadata": {
    "collapsed": false
   },
   "outputs": [],
   "source": [
    "for epoch in range(10):\n",
    "    model.train(sentences)\n",
    "    #model.alpha -= 0.002\n",
    "    #model.min_alpha = model.alpha"
   ]
  },
  {
   "cell_type": "markdown",
   "metadata": {
    "collapsed": true
   },
   "source": [
    "### Concatenate Review Rating with Vector"
   ]
  },
  {
   "cell_type": "code",
   "execution_count": 111,
   "metadata": {
    "collapsed": false
   },
   "outputs": [
    {
     "data": {
      "text/plain": [
       "14"
      ]
     },
     "execution_count": 111,
     "metadata": {},
     "output_type": "execute_result"
    }
   ],
   "source": [
    "np.random.choice(np.arange(20))"
   ]
  },
  {
   "cell_type": "code",
   "execution_count": 132,
   "metadata": {
    "collapsed": false
   },
   "outputs": [],
   "source": [
    "design_matrix, labels = [], []\n",
    "test_matrix, t_labels = [], []\n",
    "\n",
    "train_indices = set(np.random.choice(np.arange(len(model.docvecs)), replace=False, size=TRAIN_SIZE))\n",
    "for index in xrange(len(model.docvecs)):\n",
    "    key = (\"VEC_%s\") % (index)\n",
    "    \n",
    "    if index in train_indices:\n",
    "        design_matrix.append(np.append(model.docvecs[key], review_pd[\"Stars\"][index]))\n",
    "        labels.append(business_ratings[review_pd[\"Business ID\"][index]])\n",
    "    else:\n",
    "        test_matrix.append(np.append(model.docvecs[key], review_pd[\"Stars\"][index]))\n",
    "        t_labels.append(business_ratings[review_pd[\"Business ID\"][index]])\n",
    "    \n",
    "design_matrix = np.array(design_matrix)\n",
    "labels = np.array(labels)\n",
    "#labels = (np.array(labels) > 3).astype(int)\n",
    "\n",
    "test_matrix = np.array(test_matrix)\n",
    "t_labels = np.array(t_labels)\n",
    "#t_labels = (np.array(t_labels) > 3).astype(int)"
   ]
  },
  {
   "cell_type": "code",
   "execution_count": 133,
   "metadata": {
    "collapsed": false
   },
   "outputs": [
    {
     "data": {
      "text/plain": [
       "(array([     0.,      0.,     67.,    330.,    717.,   1378.,   4191.,\n",
       "          9235.,  15534.,   7000.,   1548.]),\n",
       " array([ 0. ,  0.5,  1. ,  1.5,  2. ,  2.5,  3. ,  3.5,  4. ,  4.5,  5. ,\n",
       "         5.5]),\n",
       " <a list of 11 Patch objects>)"
      ]
     },
     "execution_count": 133,
     "metadata": {},
     "output_type": "execute_result"
    },
    {
     "data": {
      "image/png": "[encoded data removed]",
      "text/plain": [
       "<matplotlib.figure.Figure at 0x13f7281d0>"
      ]
     },
     "metadata": {},
     "output_type": "display_data"
    }
   ],
   "source": [
    "import matplotlib.pyplot as plt\n",
    "plt.hist(labels,bins=[0, 0.5, 1, 1.5, 2, 2.5, 3, 3.5, 4, 4.5, 5, 5.5])"
   ]
  },
  {
   "cell_type": "code",
   "execution_count": 134,
   "metadata": {
    "collapsed": false
   },
   "outputs": [],
   "source": [
    "labels_binary = (labels >= 4).astype(int)\n",
    "t_labels_binary = (t_labels >= 4).astype(int)"
   ]
  },
  {
   "cell_type": "code",
   "execution_count": 135,
   "metadata": {
    "collapsed": false
   },
   "outputs": [
    {
     "data": {
      "text/plain": [
       "0.59866419294990725"
      ]
     },
     "execution_count": 135,
     "metadata": {},
     "output_type": "execute_result"
    }
   ],
   "source": [
    "t_labels_binary.sum() * 1.0 / len(t_labels_binary)"
   ]
  },
  {
   "cell_type": "markdown",
   "metadata": {},
   "source": [
    "### Input data into Binomial Model"
   ]
  },
  {
   "cell_type": "code",
   "execution_count": 136,
   "metadata": {
    "collapsed": false
   },
   "outputs": [
    {
     "name": "stdout",
     "output_type": "stream",
     "text": [
      "0.718812615955\n"
     ]
    }
   ],
   "source": [
    "from sklearn.linear_model import LogisticRegression\n",
    "import sklearn.metrics as met\n",
    "\n",
    "logreg = LogisticRegression()\n",
    "logreg.fit(design_matrix, labels_binary)\n",
    "\n",
    "preds = logreg.predict(test_matrix)\n",
    "print met.accuracy_score(t_labels_binary, preds)"
   ]
  },
  {
   "cell_type": "code",
   "execution_count": 101,
   "metadata": {
    "collapsed": false
   },
   "outputs": [
    {
     "data": {
      "text/plain": [
       "array([[2278, 2350],\n",
       "       [1632, 7215]])"
      ]
     },
     "execution_count": 101,
     "metadata": {},
     "output_type": "execute_result"
    }
   ],
   "source": [
    "\n",
    "met.confusion_matrix(t_labels_binary, preds)"
   ]
  },
  {
   "cell_type": "code",
   "execution_count": 102,
   "metadata": {
    "collapsed": false
   },
   "outputs": [
    {
     "data": {
      "text/plain": [
       "0.75431259801359118"
      ]
     },
     "execution_count": 102,
     "metadata": {},
     "output_type": "execute_result"
    }
   ],
   "source": [
    "met.precision_score(t_labels_binary, preds)"
   ]
  },
  {
   "cell_type": "code",
   "execution_count": 103,
   "metadata": {
    "collapsed": false
   },
   "outputs": [
    {
     "data": {
      "text/plain": [
       "0.81553068836893861"
      ]
     },
     "execution_count": 103,
     "metadata": {},
     "output_type": "execute_result"
    }
   ],
   "source": [
    "met.recall_score(t_labels_binary, preds)"
   ]
  },
  {
   "cell_type": "markdown",
   "metadata": {},
   "source": [
    "### Param tuning"
   ]
  },
  {
   "cell_type": "code",
   "execution_count": 118,
   "metadata": {
    "collapsed": false
   },
   "outputs": [
    {
     "name": "stderr",
     "output_type": "stream",
     "text": [
      "WARNING:gensim.models.word2vec:consider setting layer size to a multiple of 4 for greater performance\n"
     ]
    },
    {
     "name": "stdout",
     "output_type": "stream",
     "text": [
      "training: size = 30\n",
      "0.701966604824"
     ]
    },
    {
     "name": "stderr",
     "output_type": "stream",
     "text": [
      "WARNING:gensim.models.word2vec:consider setting layer size to a multiple of 4 for greater performance\n"
     ]
    },
    {
     "name": "stdout",
     "output_type": "stream",
     "text": [
      "\n",
      "training: size = 50\n",
      "0.702486085343"
     ]
    },
    {
     "name": "stderr",
     "output_type": "stream",
     "text": [
      "WARNING:gensim.models.word2vec:consider setting layer size to a multiple of 4 for greater performance\n"
     ]
    },
    {
     "name": "stdout",
     "output_type": "stream",
     "text": [
      "\n",
      "training: size = 70\n",
      "0.703599257885"
     ]
    },
    {
     "name": "stderr",
     "output_type": "stream",
     "text": [
      "WARNING:gensim.models.word2vec:consider setting layer size to a multiple of 4 for greater performance\n"
     ]
    },
    {
     "name": "stdout",
     "output_type": "stream",
     "text": [
      "\n",
      "training: size = 90\n",
      "0.703821892393"
     ]
    },
    {
     "name": "stderr",
     "output_type": "stream",
     "text": [
      "WARNING:gensim.models.word2vec:consider setting layer size to a multiple of 4 for greater performance\n"
     ]
    },
    {
     "name": "stdout",
     "output_type": "stream",
     "text": [
      "\n",
      "training: size = 110\n"
     ]
    },
    {
     "ename": "KeyboardInterrupt",
     "evalue": "",
     "output_type": "error",
     "traceback": [
      "\u001b[0;31m---------------------------------------------------------------------------\u001b[0m",
      "\u001b[0;31mKeyboardInterrupt\u001b[0m                         Traceback (most recent call last)",
      "\u001b[0;32m<ipython-input-118-24e138b85a60>\u001b[0m in \u001b[0;36m<module>\u001b[0;34m()\u001b[0m\n\u001b[1;32m     14\u001b[0m \u001b[0;34m\u001b[0m\u001b[0m\n\u001b[1;32m     15\u001b[0m     \u001b[0;32mfor\u001b[0m \u001b[0mepoch\u001b[0m \u001b[0;32min\u001b[0m \u001b[0mrange\u001b[0m\u001b[0;34m(\u001b[0m\u001b[0;36m10\u001b[0m\u001b[0;34m)\u001b[0m\u001b[0;34m:\u001b[0m\u001b[0;34m\u001b[0m\u001b[0m\n\u001b[0;32m---> 16\u001b[0;31m         \u001b[0mmodel\u001b[0m\u001b[0;34m.\u001b[0m\u001b[0mtrain\u001b[0m\u001b[0;34m(\u001b[0m\u001b[0msentences\u001b[0m\u001b[0;34m)\u001b[0m\u001b[0;34m\u001b[0m\u001b[0m\n\u001b[0m\u001b[1;32m     17\u001b[0m         \u001b[0mmodel\u001b[0m\u001b[0;34m.\u001b[0m\u001b[0malpha\u001b[0m \u001b[0;34m-=\u001b[0m \u001b[0;36m0.002\u001b[0m\u001b[0;34m\u001b[0m\u001b[0m\n\u001b[1;32m     18\u001b[0m         \u001b[0mmodel\u001b[0m\u001b[0;34m.\u001b[0m\u001b[0mmin_alpha\u001b[0m \u001b[0;34m=\u001b[0m \u001b[0mmodel\u001b[0m\u001b[0;34m.\u001b[0m\u001b[0malpha\u001b[0m\u001b[0;34m\u001b[0m\u001b[0m\n",
      "\u001b[0;32m/Users/jackqiao/anaconda/envs/py2/lib/python2.7/site-packages/gensim/models/word2vec.py\u001b[0m in \u001b[0;36mtrain\u001b[0;34m(self, sentences, total_words, word_count, chunksize, total_examples, queue_factor, report_delay)\u001b[0m\n\u001b[1;32m    744\u001b[0m                 \u001b[0mjob_no\u001b[0m\u001b[0;34m,\u001b[0m \u001b[0mitems\u001b[0m \u001b[0;34m=\u001b[0m \u001b[0mnext\u001b[0m\u001b[0;34m(\u001b[0m\u001b[0mjobs_source\u001b[0m\u001b[0;34m)\u001b[0m\u001b[0;34m\u001b[0m\u001b[0m\n\u001b[1;32m    745\u001b[0m                 \u001b[0mlogger\u001b[0m\u001b[0;34m.\u001b[0m\u001b[0mdebug\u001b[0m\u001b[0;34m(\u001b[0m\u001b[0;34m\"putting job #%i in the queue at alpha %.05f\"\u001b[0m\u001b[0;34m,\u001b[0m \u001b[0mjob_no\u001b[0m\u001b[0;34m,\u001b[0m \u001b[0mnext_alpha\u001b[0m\u001b[0;34m)\u001b[0m\u001b[0;34m\u001b[0m\u001b[0m\n\u001b[0;32m--> 746\u001b[0;31m                 \u001b[0mjob_queue\u001b[0m\u001b[0;34m.\u001b[0m\u001b[0mput\u001b[0m\u001b[0;34m(\u001b[0m\u001b[0;34m(\u001b[0m\u001b[0mitems\u001b[0m\u001b[0;34m,\u001b[0m \u001b[0mnext_alpha\u001b[0m\u001b[0;34m)\u001b[0m\u001b[0;34m)\u001b[0m\u001b[0;34m\u001b[0m\u001b[0m\n\u001b[0m\u001b[1;32m    747\u001b[0m                 \u001b[0;31m# update the learning rate before every next job\u001b[0m\u001b[0;34m\u001b[0m\u001b[0;34m\u001b[0m\u001b[0m\n\u001b[1;32m    748\u001b[0m                 \u001b[0;32mif\u001b[0m \u001b[0mself\u001b[0m\u001b[0;34m.\u001b[0m\u001b[0mmin_alpha\u001b[0m \u001b[0;34m<\u001b[0m \u001b[0mnext_alpha\u001b[0m\u001b[0;34m:\u001b[0m\u001b[0;34m\u001b[0m\u001b[0m\n",
      "\u001b[0;32m/Users/jackqiao/anaconda/envs/py2/lib/python2.7/Queue.pyc\u001b[0m in \u001b[0;36mput\u001b[0;34m(self, item, block, timeout)\u001b[0m\n\u001b[1;32m    124\u001b[0m                 \u001b[0;32melif\u001b[0m \u001b[0mtimeout\u001b[0m \u001b[0;32mis\u001b[0m \u001b[0mNone\u001b[0m\u001b[0;34m:\u001b[0m\u001b[0;34m\u001b[0m\u001b[0m\n\u001b[1;32m    125\u001b[0m                     \u001b[0;32mwhile\u001b[0m \u001b[0mself\u001b[0m\u001b[0;34m.\u001b[0m\u001b[0m_qsize\u001b[0m\u001b[0;34m(\u001b[0m\u001b[0;34m)\u001b[0m \u001b[0;34m==\u001b[0m \u001b[0mself\u001b[0m\u001b[0;34m.\u001b[0m\u001b[0mmaxsize\u001b[0m\u001b[0;34m:\u001b[0m\u001b[0;34m\u001b[0m\u001b[0m\n\u001b[0;32m--> 126\u001b[0;31m                         \u001b[0mself\u001b[0m\u001b[0;34m.\u001b[0m\u001b[0mnot_full\u001b[0m\u001b[0;34m.\u001b[0m\u001b[0mwait\u001b[0m\u001b[0;34m(\u001b[0m\u001b[0;34m)\u001b[0m\u001b[0;34m\u001b[0m\u001b[0m\n\u001b[0m\u001b[1;32m    127\u001b[0m                 \u001b[0;32melif\u001b[0m \u001b[0mtimeout\u001b[0m \u001b[0;34m<\u001b[0m \u001b[0;36m0\u001b[0m\u001b[0;34m:\u001b[0m\u001b[0;34m\u001b[0m\u001b[0m\n\u001b[1;32m    128\u001b[0m                     \u001b[0;32mraise\u001b[0m \u001b[0mValueError\u001b[0m\u001b[0;34m(\u001b[0m\u001b[0;34m\"'timeout' must be a non-negative number\"\u001b[0m\u001b[0;34m)\u001b[0m\u001b[0;34m\u001b[0m\u001b[0m\n",
      "\u001b[0;32m/Users/jackqiao/anaconda/envs/py2/lib/python2.7/threading.pyc\u001b[0m in \u001b[0;36mwait\u001b[0;34m(self, timeout)\u001b[0m\n\u001b[1;32m    338\u001b[0m         \u001b[0;32mtry\u001b[0m\u001b[0;34m:\u001b[0m    \u001b[0;31m# restore state no matter what (e.g., KeyboardInterrupt)\u001b[0m\u001b[0;34m\u001b[0m\u001b[0m\n\u001b[1;32m    339\u001b[0m             \u001b[0;32mif\u001b[0m \u001b[0mtimeout\u001b[0m \u001b[0;32mis\u001b[0m \u001b[0mNone\u001b[0m\u001b[0;34m:\u001b[0m\u001b[0;34m\u001b[0m\u001b[0m\n\u001b[0;32m--> 340\u001b[0;31m                 \u001b[0mwaiter\u001b[0m\u001b[0;34m.\u001b[0m\u001b[0macquire\u001b[0m\u001b[0;34m(\u001b[0m\u001b[0;34m)\u001b[0m\u001b[0;34m\u001b[0m\u001b[0m\n\u001b[0m\u001b[1;32m    341\u001b[0m                 \u001b[0;32mif\u001b[0m \u001b[0m__debug__\u001b[0m\u001b[0;34m:\u001b[0m\u001b[0;34m\u001b[0m\u001b[0m\n\u001b[1;32m    342\u001b[0m                     \u001b[0mself\u001b[0m\u001b[0;34m.\u001b[0m\u001b[0m_note\u001b[0m\u001b[0;34m(\u001b[0m\u001b[0;34m\"%s.wait(): got it\"\u001b[0m\u001b[0;34m,\u001b[0m \u001b[0mself\u001b[0m\u001b[0;34m)\u001b[0m\u001b[0;34m\u001b[0m\u001b[0m\n",
      "\u001b[0;31mKeyboardInterrupt\u001b[0m: "
     ]
    }
   ],
   "source": [
    "s = 30\n",
    "step = 20\n",
    "accus = []\n",
    "\n",
    "train_indices = set(np.random.choice(np.arange(len(model.docvecs)), replace=False, size=40000))\n",
    "\n",
    "while s < 130:\n",
    "    print \"training: size = %s\" % s \n",
    "    cores = multiprocessing.cpu_count()\n",
    "\n",
    "    model = Doc2Vec(min_count = 1, window = 10, size = s, sample = 1e-4, negative = 5, \n",
    "                    workers = cores, alpha = 0.025, min_alpha = 0.025)\n",
    "    model.build_vocab(sentences)\n",
    "\n",
    "    for epoch in range(10):\n",
    "        model.train(sentences)\n",
    "        model.alpha -= 0.002\n",
    "        model.min_alpha = model.alpha\n",
    "\n",
    "    design_matrix, labels = [], []\n",
    "    test_matrix, t_labels = [], []\n",
    "\n",
    "    for index in xrange(len(model.docvecs)):\n",
    "        key = (\"VEC_%s\") % (index)\n",
    "        if index in train_indices:\n",
    "            design_matrix.append(np.append(model.docvecs[key], review_pd[\"Stars\"][index]))\n",
    "            labels.append(business_ratings[review_pd[\"Business ID\"][index]])\n",
    "        else:\n",
    "            test_matrix.append(np.append(model.docvecs[key], review_pd[\"Stars\"][index]))\n",
    "            t_labels.append(business_ratings[review_pd[\"Business ID\"][index]])\n",
    "\n",
    "    design_matrix = np.array(design_matrix)\n",
    "    labels = np.array(labels)\n",
    "    #labels = (np.array(labels) > 3).astype(int)\n",
    "\n",
    "    test_matrix = np.array(test_matrix)\n",
    "    t_labels = np.array(t_labels)\n",
    "\n",
    "    labels_binary = (labels >= 4).astype(int)\n",
    "    t_labels_binary = (t_labels >= 4).astype(int)\n",
    "\n",
    "    logreg = LogisticRegression()\n",
    "    logreg.fit(design_matrix, labels_binary)\n",
    "\n",
    "    preds = logreg.predict(test_matrix)\n",
    "    accus.append(met.accuracy_score(t_labels_binary, preds))\n",
    "    print accus[-1]\n",
    "    s += step\n",
    "    \n"
   ]
  },
  {
   "cell_type": "code",
   "execution_count": 123,
   "metadata": {
    "collapsed": false
   },
   "outputs": [
    {
     "data": {
      "text/plain": [
       "[('VEC_47637', 0.6760912537574768),\n",
       " ('VEC_48227', 0.666786253452301),\n",
       " ('VEC_42139', 0.6661235690116882),\n",
       " ('VEC_47647', 0.6568830609321594),\n",
       " ('VEC_738', 0.6548501253128052),\n",
       " ('VEC_52928', 0.65069180727005),\n",
       " ('VEC_40785', 0.6479958891868591),\n",
       " ('VEC_565', 0.6439300775527954),\n",
       " ('VEC_49044', 0.6413969397544861),\n",
       " ('VEC_46103', 0.6406590342521667)]"
      ]
     },
     "execution_count": 123,
     "metadata": {},
     "output_type": "execute_result"
    }
   ],
   "source": [
    "model.docvecs.most_similar('VEC_5')"
   ]
  },
  {
   "cell_type": "code",
   "execution_count": 124,
   "metadata": {
    "collapsed": false
   },
   "outputs": [
    {
     "data": {
      "text/plain": [
       "[(u'crowded', 0.8520125150680542),\n",
       " (u'packed', 0.7235625982284546),\n",
       " (u'slow', 0.6773489117622375),\n",
       " (u'understaffed', 0.5977272987365723),\n",
       " (u'slammed', 0.5810332894325256),\n",
       " (u'frustrating', 0.564176082611084),\n",
       " (u'noisy', 0.5587003827095032),\n",
       " (u'hectic', 0.5579935312271118),\n",
       " (u'weekends', 0.5554574131965637),\n",
       " (u'weekday', 0.5552082061767578)]"
      ]
     },
     "execution_count": 124,
     "metadata": {},
     "output_type": "execute_result"
    }
   ],
   "source": [
    "model.most_similar('busy')"
   ]
  },
  {
   "cell_type": "code",
   "execution_count": 127,
   "metadata": {
    "collapsed": false
   },
   "outputs": [
    {
     "data": {
      "text/plain": [
       "[(u'food', 0.7933750152587891),\n",
       " (u'atmosphere', 0.7314239740371704),\n",
       " (u'very', 0.7101171016693115),\n",
       " (u'customer', 0.6876224279403687),\n",
       " (u'ambiance', 0.687616765499115),\n",
       " (u'staff', 0.6858504414558411),\n",
       " (u'excellent', 0.681178867816925),\n",
       " (u'overall', 0.6800183057785034),\n",
       " (u'ambience', 0.6695178151130676),\n",
       " (u'consistently', 0.6591460108757019)]"
      ]
     },
     "execution_count": 127,
     "metadata": {},
     "output_type": "execute_result"
    }
   ],
   "source": [
    "model.most_similar('service')"
   ]
  },
  {
   "cell_type": "markdown",
   "metadata": {
    "collapsed": true
   },
   "source": [
    "### Input data into Multiclass Logistic Regression Model"
   ]
  },
  {
   "cell_type": "code",
   "execution_count": 70,
   "metadata": {
    "collapsed": false
   },
   "outputs": [],
   "source": [
    "design_matrix, labels = [], []\n",
    "test_matrix, t_labels = [], []\n",
    "\n",
    "star_mapping = { }\n",
    "for index in xrange(0, 9):\n",
    "    star_mapping[index * 0.5 + 1] = index\n",
    "\n",
    "for index in xrange(len(model.docvecs)):\n",
    "    key = (\"VEC_%s\") % (index)\n",
    "    if index < 45000:\n",
    "        design_matrix.append(np.append(model.docvecs[key], review_pd[\"Stars\"][index]))\n",
    "        labels.append(star_mapping[business_ratings[review_pd[\"Business ID\"][index]]])\n",
    "    else:\n",
    "        test_matrix.append(np.append(model.docvecs[key], review_pd[\"Stars\"][index]))\n",
    "        t_labels.append(star_mapping[business_ratings[review_pd[\"Business ID\"][index]]])\n",
    "    \n",
    "design_matrix = np.array(design_matrix)\n",
    "labels = np.array(labels).astype(int)\n",
    "\n",
    "test_matrix = np.array(test_matrix)\n",
    "t_labels = np.array(t_labels).astype(int)"
   ]
  },
  {
   "cell_type": "code",
   "execution_count": 73,
   "metadata": {
    "collapsed": false
   },
   "outputs": [
    {
     "name": "stdout",
     "output_type": "stream",
     "text": [
      "1.06588176353\n",
      "1.3910859932\n"
     ]
    }
   ],
   "source": [
    "from sklearn.linear_model import LogisticRegression\n",
    "from sklearn.metrics import mean_squared_error\n",
    "\n",
    "logreg = LogisticRegression(multi_class = \"multinomial\", solver = \"lbfgs\")\n",
    "logreg.fit(design_matrix, labels)\n",
    "\n",
    "preds = logreg.predict(test_matrix)\n",
    "print np.mean(abs(t_labels - preds))\n",
    "print mean_squared_error(preds, t_labels) ** 0.5"
   ]
  },
  {
   "cell_type": "code",
   "execution_count": 81,
   "metadata": {
    "collapsed": false
   },
   "outputs": [
    {
     "data": {
      "text/plain": [
       "(array([   62.,    72.,    93.,   316.,   882.,  1276.,  2403.,  1862.,\n",
       "         1018.]),\n",
       " array([ 0.        ,  0.88888889,  1.77777778,  2.66666667,  3.55555556,\n",
       "         4.44444444,  5.33333333,  6.22222222,  7.11111111,  8.        ]),\n",
       " <a list of 9 Patch objects>)"
      ]
     },
     "execution_count": 81,
     "metadata": {},
     "output_type": "execute_result"
    },
    {
     "data": {
      "image/png": "[encoded data removed]",
      "text/plain": [
       "<matplotlib.figure.Figure at 0x106e80d10>"
      ]
     },
     "metadata": {},
     "output_type": "display_data"
    }
   ],
   "source": [
    "import matplotlib.pyplot as plt\n",
    "%matplotlib inline\n",
    "\n",
    "plt.hist(t_labels, bins = 9)"
   ]
  },
  {
   "cell_type": "code",
   "execution_count": 79,
   "metadata": {
    "collapsed": false
   },
   "outputs": [
    {
     "data": {
      "text/plain": [
       "8335"
      ]
     },
     "execution_count": 79,
     "metadata": {},
     "output_type": "execute_result"
    }
   ],
   "source": [
    "stars = np.array(business_ratings.values())\n",
    "(stars == 3).sum()"
   ]
  },
  {
   "cell_type": "code",
   "execution_count": null,
   "metadata": {
    "collapsed": true
   },
   "outputs": [],
   "source": []
  }
 ],
 "metadata": {
  "kernelspec": {
   "display_name": "Python 2",
   "language": "python",
   "name": "python2"
  },
  "language_info": {
   "codemirror_mode": {
    "name": "ipython",
    "version": 2
   },
   "file_extension": ".py",
   "mimetype": "text/x-python",
   "name": "python",
   "nbconvert_exporter": "python",
   "pygments_lexer": "ipython2",
   "version": "2.7.10"
  }
 },
 "nbformat": 4,
 "nbformat_minor": 0
}
