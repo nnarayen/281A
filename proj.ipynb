{
 "cells": [
  {
   "cell_type": "markdown",
   "metadata": {},
   "source": [
    "### Extracting data from the JSON files"
   ]
  },
  {
   "cell_type": "code",
   "execution_count": 14,
   "metadata": {
    "collapsed": true
   },
   "outputs": [],
   "source": [
    "DATA_SIZE = 1569264\n",
    "SAMPLE_SIZE = 150000\n",
    "TRAIN_SIZE = 10000\n",
    "GOAL = 10000\n",
    "CUTOFF = 3\n",
    "MIN_LENGTH = 200"
   ]
  },
  {
   "cell_type": "code",
   "execution_count": 15,
   "metadata": {
    "collapsed": true
   },
   "outputs": [],
   "source": [
    "import numpy as np\n",
    "import json \n",
    "import pandas"
   ]
  },
  {
   "cell_type": "code",
   "execution_count": 16,
   "metadata": {
    "collapsed": false
   },
   "outputs": [
    {
     "name": "stdout",
     "output_type": "stream",
     "text": [
      "0\n"
     ]
    }
   ],
   "source": [
    "business_ratings = { }\n",
    "for line in open(\"data/yelp_academic_dataset_business.json\", \"r\"):\n",
    "    json_data = json.loads(line)\n",
    "    business_ratings[json_data[\"business_id\"]] = json_data[\"stars\"]\n",
    "#selected_businesses = set(np.random.choice(business_ratings.keys(), size = 2000, replace = False))\n",
    "    \n",
    "review_list = []\n",
    "\n",
    "selected = set(np.random.choice(np.arange(DATA_SIZE), size=SAMPLE_SIZE, replace=False))\n",
    "positive = 0\n",
    "negative = 0\n",
    "short = 0\n",
    "for line_num, line in enumerate(open(\"data/yelp_academic_dataset_review.json\", \"r\")):\n",
    "    if line_num in selected:\n",
    "        json_data = json.loads(line)\n",
    "        \"\"\"\n",
    "        if len(json_data[\"text\"]) < MIN_LENGTH:\n",
    "            short += 1\n",
    "            continue\n",
    "        \"\"\"\n",
    "        if (positive < GOAL and json_data[\"stars\"] >= CUTOFF) or (negative < GOAL and json_data[\"stars\"] < CUTOFF):\n",
    "            review_list.append([json_data[\"review_id\"], json_data[\"stars\"], json_data[\"text\"], json_data[\"business_id\"]])\n",
    "            if json_data[\"stars\"] >= CUTOFF:\n",
    "                positive += 1\n",
    "            else:\n",
    "                negative += 1\n",
    "                \n",
    "print short\n",
    "review_pd = pandas.DataFrame(review_list, columns = [\"Review ID\", \"Stars\", \"Review Text\", \"Business ID\"])"
   ]
  },
  {
   "cell_type": "markdown",
   "metadata": {},
   "source": [
    "### Tokenizing the review text"
   ]
  },
  {
   "cell_type": "code",
   "execution_count": 17,
   "metadata": {
    "collapsed": false
   },
   "outputs": [],
   "source": [
    "import sys\n",
    "import string\n",
    "import unicodedata\n",
    "\n",
    "tbl = dict.fromkeys(i for i in xrange(sys.maxunicode) if unicodedata.category(unichr(i)).startswith('P'))\n",
    "\n",
    "def tokenize(text):\n",
    "    return text.translate(tbl).lower().split()\n",
    "\n",
    "review_pd[\"Tokenized Text\"] = review_pd[\"Review Text\"].apply(tokenize)"
   ]
  },
  {
   "cell_type": "code",
   "execution_count": 18,
   "metadata": {
    "collapsed": false
   },
   "outputs": [
    {
     "data": {
      "text/plain": [
       "(20000, 5)"
      ]
     },
     "execution_count": 18,
     "metadata": {},
     "output_type": "execute_result"
    }
   ],
   "source": [
    "review_pd.shape"
   ]
  },
  {
   "cell_type": "code",
   "execution_count": 19,
   "metadata": {
    "collapsed": false
   },
   "outputs": [
    {
     "data": {
      "text/html": [
       "<div>\n",
       "<table border=\"1\" class=\"dataframe\">\n",
       "  <thead>\n",
       "    <tr style=\"text-align: right;\">\n",
       "      <th></th>\n",
       "      <th>Review ID</th>\n",
       "      <th>Review Text</th>\n",
       "      <th>Business ID</th>\n",
       "      <th>Tokenized Text</th>\n",
       "    </tr>\n",
       "    <tr>\n",
       "      <th>Stars</th>\n",
       "      <th></th>\n",
       "      <th></th>\n",
       "      <th></th>\n",
       "      <th></th>\n",
       "    </tr>\n",
       "  </thead>\n",
       "  <tbody>\n",
       "    <tr>\n",
       "      <th>1</th>\n",
       "      <td>5211</td>\n",
       "      <td>5211</td>\n",
       "      <td>5211</td>\n",
       "      <td>5211</td>\n",
       "    </tr>\n",
       "    <tr>\n",
       "      <th>2</th>\n",
       "      <td>4789</td>\n",
       "      <td>4789</td>\n",
       "      <td>4789</td>\n",
       "      <td>4789</td>\n",
       "    </tr>\n",
       "    <tr>\n",
       "      <th>3</th>\n",
       "      <td>1846</td>\n",
       "      <td>1846</td>\n",
       "      <td>1846</td>\n",
       "      <td>1846</td>\n",
       "    </tr>\n",
       "    <tr>\n",
       "      <th>4</th>\n",
       "      <td>3729</td>\n",
       "      <td>3729</td>\n",
       "      <td>3729</td>\n",
       "      <td>3729</td>\n",
       "    </tr>\n",
       "    <tr>\n",
       "      <th>5</th>\n",
       "      <td>4425</td>\n",
       "      <td>4425</td>\n",
       "      <td>4425</td>\n",
       "      <td>4425</td>\n",
       "    </tr>\n",
       "  </tbody>\n",
       "</table>\n",
       "</div>"
      ],
      "text/plain": [
       "       Review ID  Review Text  Business ID  Tokenized Text\n",
       "Stars                                                     \n",
       "1           5211         5211         5211            5211\n",
       "2           4789         4789         4789            4789\n",
       "3           1846         1846         1846            1846\n",
       "4           3729         3729         3729            3729\n",
       "5           4425         4425         4425            4425"
      ]
     },
     "execution_count": 19,
     "metadata": {},
     "output_type": "execute_result"
    }
   ],
   "source": [
    "%matplotlib inline\n",
    "review_pd.groupby(\"Stars\").count()"
   ]
  },
  {
   "cell_type": "code",
   "execution_count": 48,
   "metadata": {
    "collapsed": true
   },
   "outputs": [],
   "source": [
    "review_pd.to_json(\"data/review_binomial_cutoff_3_20k.json\")"
   ]
  },
  {
   "cell_type": "markdown",
   "metadata": {},
   "source": [
    "### Manipulating data into LabeledSentences"
   ]
  },
  {
   "cell_type": "code",
   "execution_count": 3,
   "metadata": {
    "collapsed": true
   },
   "outputs": [],
   "source": [
    "review_pd = pandas.read_json(\"data/review_binomial_cutoff_20k.json\")"
   ]
  },
  {
   "cell_type": "code",
   "execution_count": 20,
   "metadata": {
    "collapsed": false
   },
   "outputs": [
    {
     "data": {
      "text/html": [
       "<div>\n",
       "<table border=\"1\" class=\"dataframe\">\n",
       "  <thead>\n",
       "    <tr style=\"text-align: right;\">\n",
       "      <th></th>\n",
       "      <th>Review ID</th>\n",
       "      <th>Review Text</th>\n",
       "      <th>Business ID</th>\n",
       "      <th>Tokenized Text</th>\n",
       "    </tr>\n",
       "    <tr>\n",
       "      <th>Stars</th>\n",
       "      <th></th>\n",
       "      <th></th>\n",
       "      <th></th>\n",
       "      <th></th>\n",
       "    </tr>\n",
       "  </thead>\n",
       "  <tbody>\n",
       "    <tr>\n",
       "      <th>1</th>\n",
       "      <td>5211</td>\n",
       "      <td>5211</td>\n",
       "      <td>5211</td>\n",
       "      <td>5211</td>\n",
       "    </tr>\n",
       "    <tr>\n",
       "      <th>2</th>\n",
       "      <td>4789</td>\n",
       "      <td>4789</td>\n",
       "      <td>4789</td>\n",
       "      <td>4789</td>\n",
       "    </tr>\n",
       "    <tr>\n",
       "      <th>3</th>\n",
       "      <td>1846</td>\n",
       "      <td>1846</td>\n",
       "      <td>1846</td>\n",
       "      <td>1846</td>\n",
       "    </tr>\n",
       "    <tr>\n",
       "      <th>4</th>\n",
       "      <td>3729</td>\n",
       "      <td>3729</td>\n",
       "      <td>3729</td>\n",
       "      <td>3729</td>\n",
       "    </tr>\n",
       "    <tr>\n",
       "      <th>5</th>\n",
       "      <td>4425</td>\n",
       "      <td>4425</td>\n",
       "      <td>4425</td>\n",
       "      <td>4425</td>\n",
       "    </tr>\n",
       "  </tbody>\n",
       "</table>\n",
       "</div>"
      ],
      "text/plain": [
       "       Review ID  Review Text  Business ID  Tokenized Text\n",
       "Stars                                                     \n",
       "1           5211         5211         5211            5211\n",
       "2           4789         4789         4789            4789\n",
       "3           1846         1846         1846            1846\n",
       "4           3729         3729         3729            3729\n",
       "5           4425         4425         4425            4425"
      ]
     },
     "execution_count": 20,
     "metadata": {},
     "output_type": "execute_result"
    }
   ],
   "source": [
    "review_pd.groupby(\"Stars\").count()"
   ]
  },
  {
   "cell_type": "code",
   "execution_count": 21,
   "metadata": {
    "collapsed": true
   },
   "outputs": [],
   "source": [
    "from gensim.models.doc2vec import LabeledSentence\n",
    "import numpy as np\n",
    "\n",
    "class LabeledSentences:\n",
    "    \n",
    "    def __init__(self, series):\n",
    "        self.series = series\n",
    "        \n",
    "    def __iter__(self):\n",
    "        indexes = list(np.arange(len(self.series)))\n",
    "        np.random.shuffle(indexes)\n",
    "        for (index, wordlist) in self.series.iloc[indexes].iteritems():\n",
    "        #for (index, wordlist) in self.series.iteritems():\n",
    "            yield LabeledSentence(words = wordlist, tags = ['VEC_%s' % index])\n",
    "            \n",
    "sentences = LabeledSentences(review_pd[\"Tokenized Text\"].copy())"
   ]
  },
  {
   "cell_type": "markdown",
   "metadata": {},
   "source": [
    "### Learn vector representations for each word via Word2Vec"
   ]
  },
  {
   "cell_type": "code",
   "execution_count": 40,
   "metadata": {
    "collapsed": false
   },
   "outputs": [],
   "source": [
    "import multiprocessing\n",
    "import gensim\n",
    "from gensim.models import Doc2Vec\n",
    "\n",
    "assert gensim.models.doc2vec.FAST_VERSION > -1, \"This will be slow otherwise\"\n",
    "cores = multiprocessing.cpu_count()\n",
    "\n",
    "model1 = Doc2Vec(dm = 1, dm_concat = 0, min_count = 1, window = 10, size = 600, sample = 1e-4, negative = 5, \n",
    "                workers = cores, alpha = 0.025, min_alpha = 0.025)\n",
    "model1.build_vocab(sentences)\n",
    "\n",
    "model2 = Doc2Vec(dm = 0, dm_concat = 0, min_count = 1, window = 10, size = 600, sample = 1e-4, negative = 5, \n",
    "                workers = cores, alpha = 0.025, min_alpha = 0.025)\n",
    "model2.build_vocab(sentences)"
   ]
  },
  {
   "cell_type": "markdown",
   "metadata": {},
   "source": [
    "### Learn vector representations for each review text via Doc2Vec"
   ]
  },
  {
   "cell_type": "code",
   "execution_count": 41,
   "metadata": {
    "collapsed": false
   },
   "outputs": [
    {
     "name": "stdout",
     "output_type": "stream",
     "text": [
      "Done 0\n",
      "Done 1\n",
      "Done 2\n",
      "Done 3\n",
      "Done 4\n",
      "Done 5\n",
      "Done 6\n",
      "Done 7\n",
      "Done 8\n",
      "Done 9\n"
     ]
    }
   ],
   "source": [
    "for epoch in range(10):\n",
    "    model1.train(sentences)\n",
    "    model2.train(sentences)\n",
    "    #model.alpha -= 0.002\n",
    "    #model.min_alpha = model.alpha\n",
    "    print 'Done %d' % (epoch)"
   ]
  },
  {
   "cell_type": "code",
   "execution_count": 42,
   "metadata": {
    "collapsed": false
   },
   "outputs": [
    {
     "data": {
      "text/plain": [
       "[(u'horrible', 0.3424021601676941),\n",
       " (u'bacaros', 0.2761635184288025),\n",
       " (u'horrendous', 0.27532607316970825),\n",
       " (u'crappy', 0.2625032067298889),\n",
       " (u'horrid', 0.2509114146232605),\n",
       " (u'soonest', 0.2498949021100998),\n",
       " (u'poor', 0.24179193377494812),\n",
       " (u'awful', 0.23892655968666077),\n",
       " (u'bad', 0.23692214488983154),\n",
       " (u'atrocious', 0.23541006445884705)]"
      ]
     },
     "execution_count": 42,
     "metadata": {},
     "output_type": "execute_result"
    }
   ],
   "source": [
    "model1.most_similar('terrible')"
   ]
  },
  {
   "cell_type": "code",
   "execution_count": 43,
   "metadata": {
    "collapsed": false
   },
   "outputs": [
    {
     "data": {
      "text/plain": [
       "[(u'weekendall', 0.16518330574035645),\n",
       " (u'hint', 0.1626659333705902),\n",
       " (u'eachas', 0.16265633702278137),\n",
       " (u'carbuying', 0.15536731481552124),\n",
       " (u'minimums', 0.15392491221427917),\n",
       " (u'fecies', 0.1531776785850525),\n",
       " (u'ernesto', 0.1523200273513794),\n",
       " (u'fireballs', 0.15089063346385956),\n",
       " (u'boogersmucus', 0.15062180161476135),\n",
       " (u'190', 0.14915722608566284)]"
      ]
     },
     "execution_count": 43,
     "metadata": {},
     "output_type": "execute_result"
    }
   ],
   "source": [
    "model2.most_similar('amazing')"
   ]
  },
  {
   "cell_type": "markdown",
   "metadata": {
    "collapsed": true
   },
   "source": [
    "### Concatenate Review Rating with Vector"
   ]
  },
  {
   "cell_type": "code",
   "execution_count": 26,
   "metadata": {
    "collapsed": false
   },
   "outputs": [
    {
     "data": {
      "text/plain": [
       "20000"
      ]
     },
     "execution_count": 26,
     "metadata": {},
     "output_type": "execute_result"
    }
   ],
   "source": [
    "len(model1.docvecs)"
   ]
  },
  {
   "cell_type": "code",
   "execution_count": 13,
   "metadata": {
    "collapsed": false
   },
   "outputs": [
    {
     "data": {
      "text/plain": [
       "gensim.models.doc2vec.DocvecsArray"
      ]
     },
     "execution_count": 13,
     "metadata": {},
     "output_type": "execute_result"
    }
   ],
   "source": [
    "type(model1.docvecs)"
   ]
  },
  {
   "cell_type": "code",
   "execution_count": 44,
   "metadata": {
    "collapsed": false
   },
   "outputs": [],
   "source": [
    "design_matrix, labels = [], []\n",
    "test_matrix, t_labels = [], []\n",
    "\n",
    "train_indices = set(np.random.choice(np.arange(len(model1.docvecs)), replace=False, size=TRAIN_SIZE))\n",
    "\n",
    "for index in xrange(len(model1.docvecs)):\n",
    "    key = (\"VEC_%s\") % (index)\n",
    "    \n",
    "    if index in train_indices:\n",
    "        design_matrix.append(np.append(model1.docvecs[key], model2.docvecs[key]))\n",
    "        #design_matrix.append(model2.docvecs[key])\n",
    "        labels.append(review_pd[\"Stars\"][index])\n",
    "        #labels.append(business_ratings[review_pd[\"Business ID\"][index]])\n",
    "    else:\n",
    "        test_matrix.append(np.append(model1.docvecs[key], model2.docvecs[key]))\n",
    "        #test_matrix.append(model2.docvecs[key])\n",
    "        t_labels.append(review_pd[\"Stars\"][index])\n",
    "        #t_labels.append(business_ratings[review_pd[\"Business ID\"][index]])\n",
    "    \n",
    "design_matrix = np.array(design_matrix)\n",
    "labels = np.array(labels)\n",
    "#labels = (np.array(labels) > 3).astype(int)\n",
    "\n",
    "test_matrix = np.array(test_matrix)\n",
    "t_labels = np.array(t_labels)\n",
    "#t_labels = (np.array(t_labels) > 3).astype(int)"
   ]
  },
  {
   "cell_type": "code",
   "execution_count": 34,
   "metadata": {
    "collapsed": false
   },
   "outputs": [
    {
     "data": {
      "text/plain": [
       "20000"
      ]
     },
     "execution_count": 34,
     "metadata": {},
     "output_type": "execute_result"
    }
   ],
   "source": [
    "len(model1.docvecs)"
   ]
  },
  {
   "cell_type": "code",
   "execution_count": 77,
   "metadata": {
    "collapsed": false
   },
   "outputs": [
    {
     "data": {
      "text/plain": [
       "(array([    0.,     0.,   743.,     0.,   562.,     0.,   925.,     0.,\n",
       "         1075.,     0.,  1195.]),\n",
       " array([ 0. ,  0.5,  1. ,  1.5,  2. ,  2.5,  3. ,  3.5,  4. ,  4.5,  5. ,\n",
       "         5.5]),\n",
       " <a list of 11 Patch objects>)"
      ]
     },
     "execution_count": 77,
     "metadata": {},
     "output_type": "execute_result"
    },
    {
     "data": {
      "image/png": "[encoded data removed]",
      "text/plain": [
       "<matplotlib.figure.Figure at 0x131328ed0>"
      ]
     },
     "metadata": {},
     "output_type": "display_data"
    }
   ],
   "source": [
    "import matplotlib.pyplot as plt\n",
    "plt.hist(labels,bins=[0, 0.5, 1, 1.5, 2, 2.5, 3, 3.5, 4, 4.5, 5, 5.5])"
   ]
  },
  {
   "cell_type": "code",
   "execution_count": 45,
   "metadata": {
    "collapsed": false
   },
   "outputs": [],
   "source": [
    "labels_binary = (labels >= CUTOFF).astype(int)\n",
    "t_labels_binary = (t_labels >= CUTOFF).astype(int)"
   ]
  },
  {
   "cell_type": "code",
   "execution_count": 46,
   "metadata": {
    "collapsed": false
   },
   "outputs": [
    {
     "data": {
      "text/plain": [
       "0.49399999999999999"
      ]
     },
     "execution_count": 46,
     "metadata": {},
     "output_type": "execute_result"
    }
   ],
   "source": [
    "labels_binary.sum() * 1.0 / len(labels_binary)"
   ]
  },
  {
   "cell_type": "markdown",
   "metadata": {},
   "source": [
    "### Input data into Binomial Model"
   ]
  },
  {
   "cell_type": "code",
   "execution_count": 47,
   "metadata": {
    "collapsed": false
   },
   "outputs": [
    {
     "name": "stdout",
     "output_type": "stream",
     "text": [
      "0.8725\n"
     ]
    }
   ],
   "source": [
    "from sklearn.linear_model import LogisticRegression\n",
    "import sklearn.metrics as met\n",
    "\n",
    "logreg = LogisticRegression()\n",
    "logreg.fit(design_matrix, labels_binary)\n",
    "\n",
    "preds = logreg.predict(test_matrix)\n",
    "print met.accuracy_score(t_labels_binary, preds)"
   ]
  },
  {
   "cell_type": "code",
   "execution_count": 207,
   "metadata": {
    "collapsed": false
   },
   "outputs": [
    {
     "data": {
      "text/plain": [
       "array([[ 9932,  2617],\n",
       "       [ 2323, 10128]])"
      ]
     },
     "execution_count": 207,
     "metadata": {},
     "output_type": "execute_result"
    }
   ],
   "source": [
    "\n",
    "met.confusion_matrix(t_labels_binary, preds)"
   ]
  },
  {
   "cell_type": "code",
   "execution_count": 208,
   "metadata": {
    "collapsed": false
   },
   "outputs": [
    {
     "data": {
      "text/plain": [
       "0.79466457434287952"
      ]
     },
     "execution_count": 208,
     "metadata": {},
     "output_type": "execute_result"
    }
   ],
   "source": [
    "met.precision_score(t_labels_binary, preds)"
   ]
  },
  {
   "cell_type": "code",
   "execution_count": 209,
   "metadata": {
    "collapsed": false
   },
   "outputs": [
    {
     "data": {
      "text/plain": [
       "0.81342864026985784"
      ]
     },
     "execution_count": 209,
     "metadata": {},
     "output_type": "execute_result"
    }
   ],
   "source": [
    "met.recall_score(t_labels_binary, preds)"
   ]
  },
  {
   "cell_type": "markdown",
   "metadata": {},
   "source": [
    "### Param tuning"
   ]
  },
  {
   "cell_type": "code",
   "execution_count": 51,
   "metadata": {
    "collapsed": false
   },
   "outputs": [
    {
     "name": "stdout",
     "output_type": "stream",
     "text": [
      "training: size = 500\n",
      "Done 0\n",
      "Done 1\n",
      "Done 2\n",
      "Done 3\n",
      "Done 4\n",
      "Done 5\n",
      "Done 6\n",
      "Done 7\n",
      "Done 8\n",
      "Done 9\n",
      "0.8711\n",
      "\n",
      "training: size = 600\n",
      "Done 0\n",
      "Done 1\n",
      "Done 2\n",
      "Done 3\n",
      "Done 4\n",
      "Done 5\n",
      "Done 6\n",
      "Done 7\n",
      "Done 8\n",
      "Done 9\n",
      "0.8723\n",
      "\n",
      "training: size = 700\n",
      "Done 0\n",
      "Done 1\n",
      "Done 2\n",
      "Done 3\n",
      "Done 4\n",
      "Done 5\n",
      "Done 6\n",
      "Done 7\n",
      "Done 8\n",
      "Done 9\n",
      "0.8662\n",
      "\n",
      "training: size = 800\n",
      "Done 0\n",
      "Done 1\n",
      "Done 2\n",
      "Done 3\n",
      "Done 4\n",
      "Done 5\n",
      "Done 6\n",
      "Done 7\n",
      "Done 8\n",
      "Done 9\n",
      "0.8732\n",
      "\n",
      "training: size = 900\n",
      "Done 0\n",
      "Done 1\n",
      "Done 2\n",
      "Done 3\n",
      "Done 4\n",
      "Done 5\n",
      "Done 6\n",
      "Done 7\n",
      "Done 8\n",
      "Done 9\n",
      "0.8683\n",
      "\n",
      "training: size = 1000\n",
      "Done 0\n",
      "Done 1\n",
      "Done 2\n",
      "Done 3\n",
      "Done 4\n",
      "Done 5\n",
      "Done 6\n",
      "Done 7\n",
      "Done 8\n",
      "Done 9\n",
      "0.8732\n",
      "\n",
      "training: size = 1100\n",
      "Done 0\n",
      "Done 1\n",
      "Done 2\n",
      "Done 3\n",
      "Done 4\n",
      "Done 5\n",
      "Done 6\n",
      "Done 7\n",
      "Done 8\n",
      "Done 9\n",
      "0.8753\n",
      "\n",
      "training: size = 1200\n",
      "Done 0\n",
      "Done 1\n",
      "Done 2\n",
      "Done 3\n",
      "Done 4\n",
      "Done 5\n",
      "Done 6\n",
      "Done 7\n",
      "Done 8\n",
      "Done 9\n",
      "0.8709\n",
      "\n",
      "training: size = 1300\n",
      "Done 0\n",
      "Done 1\n",
      "Done 2\n",
      "Done 3\n",
      "Done 4\n",
      "Done 5\n",
      "Done 6\n",
      "Done 7\n",
      "Done 8\n",
      "Done 9\n",
      "0.8679\n",
      "\n",
      "training: size = 1400\n",
      "Done 0\n",
      "Done 1\n",
      "Done 2\n",
      "Done 3\n",
      "Done 4\n",
      "Done 5\n",
      "Done 6\n",
      "Done 7\n",
      "Done 8\n",
      "Done 9\n",
      "0.868\n",
      "\n",
      "training: size = 1500\n",
      "Done 0\n",
      "Done 1\n",
      "Done 2\n",
      "Done 3\n",
      "Done 4\n",
      "Done 5\n",
      "Done 6\n",
      "Done 7\n",
      "Done 8\n",
      "Done 9\n",
      "0.87\n",
      "\n"
     ]
    }
   ],
   "source": [
    "s = 500\n",
    "step = 100\n",
    "accus = []\n",
    "\n",
    "#train_indices = set(np.random.choice(np.arange(len(model.docvecs)), replace=False, size=TRAIN_SIZE))\n",
    "\n",
    "while s < 1600:\n",
    "    print \"training: size = %s\" % s \n",
    "    cores = multiprocessing.cpu_count()\n",
    "\n",
    "    model1 = Doc2Vec(dm = 1, dm_concat = 0, min_count = 1, window = 12, size = s, sample = 1e-4, negative = 5, \n",
    "                workers = cores, alpha = 0.025, min_alpha = 0.025)\n",
    "    model1.build_vocab(sentences)\n",
    "\n",
    "    model2 = Doc2Vec(dm = 0, dm_concat = 0, min_count = 1, window = 12, size = s, sample = 1e-4, negative = 5, \n",
    "                    workers = cores, alpha = 0.025, min_alpha = 0.025)\n",
    "    model2.build_vocab(sentences)\n",
    "\n",
    "    for epoch in range(10):\n",
    "        model1.train(sentences)\n",
    "        model2.train(sentences)\n",
    "        print 'Done %d' % (epoch)\n",
    "    \n",
    "    design_matrix, labels = [], []\n",
    "    test_matrix, t_labels = [], []\n",
    "\n",
    "    # train_indices = set(np.random.choice(np.arange(len(model1.docvecs)), replace=False, size=TRAIN_SIZE))\n",
    "\n",
    "    for index in xrange(len(model1.docvecs)):\n",
    "        key = (\"VEC_%s\") % (index)\n",
    "\n",
    "        if index in train_indices:\n",
    "            design_matrix.append(np.append(model1.docvecs[key], model2.docvecs[key]))  \n",
    "            labels.append(review_pd[\"Stars\"][index])\n",
    "        else:\n",
    "            test_matrix.append(np.append(model1.docvecs[key], model2.docvecs[key]))\n",
    "            t_labels.append(review_pd[\"Stars\"][index])\n",
    "\n",
    "\n",
    "    design_matrix = np.array(design_matrix)\n",
    "    labels = np.array(labels)\n",
    "    #labels = (np.array(labels) > 3).astype(int)\n",
    "\n",
    "    test_matrix = np.array(test_matrix)\n",
    "    t_labels = np.array(t_labels)\n",
    "    \n",
    "    labels_binary = (labels >= CUTOFF).astype(int)\n",
    "    t_labels_binary = (t_labels >= CUTOFF).astype(int)\n",
    "    \n",
    "    logreg = LogisticRegression()\n",
    "    logreg.fit(design_matrix, labels_binary)\n",
    "\n",
    "    preds = logreg.predict(test_matrix)\n",
    "    accus.append(met.accuracy_score(t_labels_binary, preds))\n",
    "    \n",
    "    print accus[-1]\n",
    "    print\n",
    "    s += step\n",
    "    \n"
   ]
  },
  {
   "cell_type": "code",
   "execution_count": 212,
   "metadata": {
    "collapsed": false
   },
   "outputs": [
    {
     "data": {
      "text/plain": [
       "[('VEC_13761', 0.6453726291656494),\n",
       " ('VEC_45409', 0.644080638885498),\n",
       " ('VEC_45423', 0.6431556940078735),\n",
       " ('VEC_46716', 0.6396288871765137),\n",
       " ('VEC_41644', 0.636633574962616),\n",
       " ('VEC_40546', 0.6356296539306641),\n",
       " ('VEC_30361', 0.6355552673339844),\n",
       " ('VEC_22352', 0.6353878974914551),\n",
       " ('VEC_27969', 0.633105993270874),\n",
       " ('VEC_41375', 0.6324337124824524)]"
      ]
     },
     "execution_count": 212,
     "metadata": {},
     "output_type": "execute_result"
    }
   ],
   "source": [
    "model.docvecs.most_similar('VEC_5')"
   ]
  },
  {
   "cell_type": "code",
   "execution_count": 213,
   "metadata": {
    "collapsed": false
   },
   "outputs": [
    {
     "data": {
      "text/plain": [
       "[(u'hectic', 0.5573806762695312),\n",
       " (u'packed', 0.5284749269485474),\n",
       " (u'crowded', 0.5262379050254822),\n",
       " (u'overwhelmed', 0.4782603979110718),\n",
       " (u'busier', 0.4369233250617981),\n",
       " (u'swamped', 0.4319928288459778),\n",
       " (u'rudesnobby', 0.42692360281944275),\n",
       " (u'understaffed', 0.4239717125892639),\n",
       " (u'disorganized', 0.4195801615715027),\n",
       " (u'rushed', 0.4126394987106323)]"
      ]
     },
     "execution_count": 213,
     "metadata": {},
     "output_type": "execute_result"
    }
   ],
   "source": [
    "model.most_similar('busy')"
   ]
  },
  {
   "cell_type": "code",
   "execution_count": 214,
   "metadata": {
    "collapsed": false
   },
   "outputs": [
    {
     "data": {
      "text/plain": [
       "[(u'servicesome', 0.4910975396633148),\n",
       " (u'varity', 0.4837305545806885),\n",
       " (u'ambience', 0.48357269167900085),\n",
       " (u'consistently', 0.48040771484375),\n",
       " (u'staff', 0.4712163209915161),\n",
       " (u'sevice', 0.45872098207473755),\n",
       " (u'noisewasnt', 0.455005407333374),\n",
       " (u'waitstaff', 0.4481390118598938),\n",
       " (u'combogorgeous', 0.44679734110832214),\n",
       " (u'vick', 0.4416964650154114)]"
      ]
     },
     "execution_count": 214,
     "metadata": {},
     "output_type": "execute_result"
    }
   ],
   "source": [
    "model.most_similar('service')"
   ]
  },
  {
   "cell_type": "markdown",
   "metadata": {
    "collapsed": true
   },
   "source": [
    "### Input data into Multiclass Logistic Regression Model"
   ]
  },
  {
   "cell_type": "code",
   "execution_count": 70,
   "metadata": {
    "collapsed": false
   },
   "outputs": [],
   "source": [
    "design_matrix, labels = [], []\n",
    "test_matrix, t_labels = [], []\n",
    "\n",
    "star_mapping = { }\n",
    "for index in xrange(0, 9):\n",
    "    star_mapping[index * 0.5 + 1] = index\n",
    "\n",
    "for index in xrange(len(model.docvecs)):\n",
    "    key = (\"VEC_%s\") % (index)\n",
    "    if index < 45000:\n",
    "        design_matrix.append(np.append(model.docvecs[key], review_pd[\"Stars\"][index]))\n",
    "        labels.append(star_mapping[business_ratings[review_pd[\"Business ID\"][index]]])\n",
    "    else:\n",
    "        test_matrix.append(np.append(model.docvecs[key], review_pd[\"Stars\"][index]))\n",
    "        t_labels.append(star_mapping[business_ratings[review_pd[\"Business ID\"][index]]])\n",
    "    \n",
    "design_matrix = np.array(design_matrix)\n",
    "labels = np.array(labels).astype(int)\n",
    "\n",
    "test_matrix = np.array(test_matrix)\n",
    "t_labels = np.array(t_labels).astype(int)"
   ]
  },
  {
   "cell_type": "code",
   "execution_count": 73,
   "metadata": {
    "collapsed": false
   },
   "outputs": [
    {
     "name": "stdout",
     "output_type": "stream",
     "text": [
      "1.06588176353\n",
      "1.3910859932\n"
     ]
    }
   ],
   "source": [
    "from sklearn.linear_model import LogisticRegression\n",
    "from sklearn.metrics import mean_squared_error\n",
    "\n",
    "logreg = LogisticRegression(multi_class = \"multinomial\", solver = \"lbfgs\")\n",
    "logreg.fit(design_matrix, labels)\n",
    "\n",
    "preds = logreg.predict(test_matrix)\n",
    "print np.mean(abs(t_labels - preds))\n",
    "print mean_squared_error(preds, t_labels) ** 0.5"
   ]
  },
  {
   "cell_type": "code",
   "execution_count": 81,
   "metadata": {
    "collapsed": false
   },
   "outputs": [
    {
     "data": {
      "text/plain": [
       "(array([   62.,    72.,    93.,   316.,   882.,  1276.,  2403.,  1862.,\n",
       "         1018.]),\n",
       " array([ 0.        ,  0.88888889,  1.77777778,  2.66666667,  3.55555556,\n",
       "         4.44444444,  5.33333333,  6.22222222,  7.11111111,  8.        ]),\n",
       " <a list of 9 Patch objects>)"
      ]
     },
     "execution_count": 81,
     "metadata": {},
     "output_type": "execute_result"
    },
    {
     "data": {
      "image/png": "[encoded data removed]",
      "text/plain": [
       "<matplotlib.figure.Figure at 0x106e80d10>"
      ]
     },
     "metadata": {},
     "output_type": "display_data"
    }
   ],
   "source": [
    "import matplotlib.pyplot as plt\n",
    "%matplotlib inline\n",
    "\n",
    "plt.hist(t_labels, bins = 9)"
   ]
  },
  {
   "cell_type": "code",
   "execution_count": 79,
   "metadata": {
    "collapsed": false
   },
   "outputs": [
    {
     "data": {
      "text/plain": [
       "8335"
      ]
     },
     "execution_count": 79,
     "metadata": {},
     "output_type": "execute_result"
    }
   ],
   "source": [
    "stars = np.array(business_ratings.values())\n",
    "(stars == 3).sum()"
   ]
  },
  {
   "cell_type": "code",
   "execution_count": null,
   "metadata": {
    "collapsed": true
   },
   "outputs": [],
   "source": []
  }
 ],
 "metadata": {
  "kernelspec": {
   "display_name": "Python 2",
   "language": "python",
   "name": "python2"
  },
  "language_info": {
   "codemirror_mode": {
    "name": "ipython",
    "version": 2
   },
   "file_extension": ".py",
   "mimetype": "text/x-python",
   "name": "python",
   "nbconvert_exporter": "python",
   "pygments_lexer": "ipython2",
   "version": "2.7.10"
  }
 },
 "nbformat": 4,
 "nbformat_minor": 0
}
