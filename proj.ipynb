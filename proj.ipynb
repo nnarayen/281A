{
 "cells": [
  {
   "cell_type": "markdown",
   "metadata": {},
   "source": [
    "### Extracting data from the JSON files"
   ]
  },
  {
   "cell_type": "code",
   "execution_count": 8,
   "metadata": {
    "collapsed": false
   },
   "outputs": [],
   "source": [
    "import numpy as np\n",
    "import json \n",
    "import pandas\n",
    "\n",
    "business_ratings = { }\n",
    "for line in open(\"data/yelp_academic_dataset_business.json\", \"r\"):\n",
    "    json_data = json.loads(line)\n",
    "    business_ratings[json_data[\"business_id\"]] = json_data[\"stars\"]\n",
    "selected_businesses = set(np.random.choice(business_ratings.keys(), size = 2000, replace = False))\n",
    "    \n",
    "review_list = []\n",
    "for line in open(\"data/yelp_academic_dataset_review.json\", \"r\"):\n",
    "    json_data = json.loads(line)\n",
    "    if json_data[\"business_id\"] in selected_businesses:\n",
    "        review_list.append([json_data[\"review_id\"], json_data[\"stars\"], json_data[\"text\"], json_data[\"business_id\"]])\n",
    "review_pd = pandas.DataFrame(review_list, columns = [\"Review ID\", \"Stars\", \"Review Text\", \"Business ID\"])"
   ]
  },
  {
   "cell_type": "markdown",
   "metadata": {},
   "source": [
    "### Tokenizing the review text"
   ]
  },
  {
   "cell_type": "code",
   "execution_count": 9,
   "metadata": {
    "collapsed": false
   },
   "outputs": [],
   "source": [
    "import sys\n",
    "import string\n",
    "import unicodedata\n",
    "from nltk.tokenize import RegexpTokenizer\n",
    "\n",
    "tbl = dict.fromkeys(i for i in xrange(sys.maxunicode) if unicodedata.category(unichr(i)).startswith('P'))\n",
    "\n",
    "def tokenize(text):\n",
    "    return text.translate(tbl).lower().split()\n",
    "\n",
    "review_pd[\"Tokenized Text\"] = review_pd[\"Review Text\"].apply(tokenize)"
   ]
  },
  {
   "cell_type": "code",
   "execution_count": 10,
   "metadata": {
    "collapsed": false
   },
   "outputs": [
    {
     "data": {
      "text/html": [
       "<div>\n",
       "<table border=\"1\" class=\"dataframe\">\n",
       "  <thead>\n",
       "    <tr style=\"text-align: right;\">\n",
       "      <th></th>\n",
       "      <th>Review ID</th>\n",
       "      <th>Stars</th>\n",
       "      <th>Review Text</th>\n",
       "      <th>Business ID</th>\n",
       "      <th>Tokenized Text</th>\n",
       "    </tr>\n",
       "  </thead>\n",
       "  <tbody>\n",
       "    <tr>\n",
       "      <th>0</th>\n",
       "      <td>8LsVRhZ_L9lbQHHlGumuxg</td>\n",
       "      <td>4</td>\n",
       "      <td>It was my first time here.  Was recommended by...</td>\n",
       "      <td>LG_Dgv7u7P2ASDWU1RAyWQ</td>\n",
       "      <td>[it, was, my, first, time, here, was, recommen...</td>\n",
       "    </tr>\n",
       "    <tr>\n",
       "      <th>1</th>\n",
       "      <td>DkVXO2Dt3jqZxRpWGGjWrg</td>\n",
       "      <td>2</td>\n",
       "      <td>The problem I have this experience compared to...</td>\n",
       "      <td>LG_Dgv7u7P2ASDWU1RAyWQ</td>\n",
       "      <td>[the, problem, i, have, this, experience, comp...</td>\n",
       "    </tr>\n",
       "    <tr>\n",
       "      <th>2</th>\n",
       "      <td>FL-WSGL0-zxer_WcGxyP-w</td>\n",
       "      <td>4</td>\n",
       "      <td>As not only pet-owners, but as dog breeders le...</td>\n",
       "      <td>LG_Dgv7u7P2ASDWU1RAyWQ</td>\n",
       "      <td>[as, not, only, petowners, but, as, dog, breed...</td>\n",
       "    </tr>\n",
       "    <tr>\n",
       "      <th>3</th>\n",
       "      <td>xS95092Dl_DbSVMtF-FPRA</td>\n",
       "      <td>5</td>\n",
       "      <td>I only allow my dogs to go to Dr. Bezak. I've ...</td>\n",
       "      <td>LG_Dgv7u7P2ASDWU1RAyWQ</td>\n",
       "      <td>[i, only, allow, my, dogs, to, go, to, dr, bez...</td>\n",
       "    </tr>\n",
       "    <tr>\n",
       "      <th>4</th>\n",
       "      <td>QR7FE4f9PI0iXcXXtgjUWQ</td>\n",
       "      <td>1</td>\n",
       "      <td>We had the worst possible experience at the Ea...</td>\n",
       "      <td>eznh0XjVtv924K-KYx_ilQ</td>\n",
       "      <td>[we, had, the, worst, possible, experience, at...</td>\n",
       "    </tr>\n",
       "  </tbody>\n",
       "</table>\n",
       "</div>"
      ],
      "text/plain": [
       "                Review ID  Stars  \\\n",
       "0  8LsVRhZ_L9lbQHHlGumuxg      4   \n",
       "1  DkVXO2Dt3jqZxRpWGGjWrg      2   \n",
       "2  FL-WSGL0-zxer_WcGxyP-w      4   \n",
       "3  xS95092Dl_DbSVMtF-FPRA      5   \n",
       "4  QR7FE4f9PI0iXcXXtgjUWQ      1   \n",
       "\n",
       "                                         Review Text             Business ID  \\\n",
       "0  It was my first time here.  Was recommended by...  LG_Dgv7u7P2ASDWU1RAyWQ   \n",
       "1  The problem I have this experience compared to...  LG_Dgv7u7P2ASDWU1RAyWQ   \n",
       "2  As not only pet-owners, but as dog breeders le...  LG_Dgv7u7P2ASDWU1RAyWQ   \n",
       "3  I only allow my dogs to go to Dr. Bezak. I've ...  LG_Dgv7u7P2ASDWU1RAyWQ   \n",
       "4  We had the worst possible experience at the Ea...  eznh0XjVtv924K-KYx_ilQ   \n",
       "\n",
       "                                      Tokenized Text  \n",
       "0  [it, was, my, first, time, here, was, recommen...  \n",
       "1  [the, problem, i, have, this, experience, comp...  \n",
       "2  [as, not, only, petowners, but, as, dog, breed...  \n",
       "3  [i, only, allow, my, dogs, to, go, to, dr, bez...  \n",
       "4  [we, had, the, worst, possible, experience, at...  "
      ]
     },
     "execution_count": 10,
     "metadata": {},
     "output_type": "execute_result"
    }
   ],
   "source": [
    "review_pd.head()"
   ]
  },
  {
   "cell_type": "markdown",
   "metadata": {},
   "source": [
    "### Manipulating data into LabeledSentences"
   ]
  },
  {
   "cell_type": "code",
   "execution_count": 35,
   "metadata": {
    "collapsed": true
   },
   "outputs": [],
   "source": [
    "from gensim.models.doc2vec import LabeledSentence\n",
    "import numpy as np\n",
    "\n",
    "class LabeledSentences:\n",
    "    \n",
    "    def __init__(self, series):\n",
    "        self.series = series\n",
    "        \n",
    "    def __iter__(self):\n",
    "        indexes = list(np.arange(len(self.series)))\n",
    "        np.random.shuffle(indexes)\n",
    "        for (index, wordlist) in self.series.iloc[indexes].iteritems():\n",
    "            yield LabeledSentence(words = wordlist, tags = ['VEC_%s' % index])\n",
    "            \n",
    "sentences = LabeledSentences(review_pd[\"Tokenized Text\"].copy())"
   ]
  },
  {
   "cell_type": "markdown",
   "metadata": {},
   "source": [
    "### Learn vector representations for each word via Word2Vec"
   ]
  },
  {
   "cell_type": "code",
   "execution_count": 37,
   "metadata": {
    "collapsed": false
   },
   "outputs": [
    {
     "name": "stderr",
     "output_type": "stream",
     "text": [
      "WARNING:gensim.models.word2vec:consider setting layer size to a multiple of 4 for greater performance\n"
     ]
    }
   ],
   "source": [
    "import multiprocessing\n",
    "import gensim\n",
    "from gensim.models import Doc2Vec\n",
    "\n",
    "assert gensim.models.doc2vec.FAST_VERSION > -1, \"This will be slow otherwise\"\n",
    "cores = multiprocessing.cpu_count()\n",
    "\n",
    "model = Doc2Vec(dm = 1, dm_concat = 0, min_count = 1, window = 10, size = 150, sample = 1e-4, negative = 5, \n",
    "                workers = cores, alpha = 0.025, min_alpha = 0.025)\n",
    "model.build_vocab(sentences)"
   ]
  },
  {
   "cell_type": "markdown",
   "metadata": {},
   "source": [
    "### Learn vector representations for each review text via Doc2Vec"
   ]
  },
  {
   "cell_type": "code",
   "execution_count": 38,
   "metadata": {
    "collapsed": false
   },
   "outputs": [],
   "source": [
    "for epoch in range(20):\n",
    "    model.train(sentences)\n",
    "    model.alpha -= 0.002\n",
    "    model.min_alpha = model.alpha"
   ]
  },
  {
   "cell_type": "markdown",
   "metadata": {
    "collapsed": true
   },
   "source": [
    "### Concatenate Review Rating with Vector"
   ]
  },
  {
   "cell_type": "code",
   "execution_count": 97,
   "metadata": {
    "collapsed": false
   },
   "outputs": [],
   "source": [
    "design_matrix, labels = [], []\n",
    "test_matrix, t_labels = [], []\n",
    "\n",
    "for index in xrange(len(model.docvecs)):\n",
    "    key = (\"VEC_%s\") % (index)\n",
    "    if index < 10500:\n",
    "        design_matrix.append(np.append(model.docvecs[key], review_pd[\"Stars\"][index]))\n",
    "        labels.append(business_ratings[review_pd[\"Business ID\"][index]])\n",
    "    else:\n",
    "        test_matrix.append(np.append(model.docvecs[key], review_pd[\"Stars\"][index]))\n",
    "        t_labels.append(business_ratings[review_pd[\"Business ID\"][index]])\n",
    "    \n",
    "design_matrix = np.array(design_matrix)\n",
    "labels = (np.array(labels) > 3).astype(int)\n",
    "\n",
    "test_matrix = np.array(test_matrix)\n",
    "t_labels = (np.array(t_labels) > 3).astype(int)"
   ]
  },
  {
   "cell_type": "markdown",
   "metadata": {},
   "source": [
    "### Input data into Binomial Model"
   ]
  },
  {
   "cell_type": "code",
   "execution_count": 98,
   "metadata": {
    "collapsed": false
   },
   "outputs": [
    {
     "name": "stdout",
     "output_type": "stream",
     "text": [
      "0.962\n"
     ]
    }
   ],
   "source": [
    "from sklearn.linear_model import LogisticRegression\n",
    "\n",
    "logreg = LogisticRegression()\n",
    "logreg.fit(design_matrix, labels)\n",
    "\n",
    "preds = logreg.predict(test_matrix)\n",
    "print np.mean(preds == t_labels)"
   ]
  },
  {
   "cell_type": "markdown",
   "metadata": {
    "collapsed": true
   },
   "source": [
    "### Input data into Multiclass Logistic Regression Model"
   ]
  },
  {
   "cell_type": "code",
   "execution_count": 70,
   "metadata": {
    "collapsed": false
   },
   "outputs": [],
   "source": [
    "design_matrix, labels = [], []\n",
    "test_matrix, t_labels = [], []\n",
    "\n",
    "star_mapping = { }\n",
    "for index in xrange(0, 9):\n",
    "    star_mapping[index * 0.5 + 1] = index\n",
    "\n",
    "for index in xrange(len(model.docvecs)):\n",
    "    key = (\"VEC_%s\") % (index)\n",
    "    if index < 45000:\n",
    "        design_matrix.append(np.append(model.docvecs[key], review_pd[\"Stars\"][index]))\n",
    "        labels.append(star_mapping[business_ratings[review_pd[\"Business ID\"][index]]])\n",
    "    else:\n",
    "        test_matrix.append(np.append(model.docvecs[key], review_pd[\"Stars\"][index]))\n",
    "        t_labels.append(star_mapping[business_ratings[review_pd[\"Business ID\"][index]]])\n",
    "    \n",
    "design_matrix = np.array(design_matrix)\n",
    "labels = np.array(labels).astype(int)\n",
    "\n",
    "test_matrix = np.array(test_matrix)\n",
    "t_labels = np.array(t_labels).astype(int)"
   ]
  },
  {
   "cell_type": "code",
   "execution_count": 73,
   "metadata": {
    "collapsed": false
   },
   "outputs": [
    {
     "name": "stdout",
     "output_type": "stream",
     "text": [
      "1.06588176353\n",
      "1.3910859932\n"
     ]
    }
   ],
   "source": [
    "from sklearn.linear_model import LogisticRegression\n",
    "from sklearn.metrics import mean_squared_error\n",
    "\n",
    "logreg = LogisticRegression(multi_class = \"multinomial\", solver = \"lbfgs\")\n",
    "logreg.fit(design_matrix, labels)\n",
    "\n",
    "preds = logreg.predict(test_matrix)\n",
    "print np.mean(abs(t_labels - preds))\n",
    "print mean_squared_error(preds, t_labels) ** 0.5"
   ]
  },
  {
   "cell_type": "code",
   "execution_count": 81,
   "metadata": {
    "collapsed": false
   },
   "outputs": [
    {
     "data": {
      "text/plain": [
       "(array([   62.,    72.,    93.,   316.,   882.,  1276.,  2403.,  1862.,\n",
       "         1018.]),\n",
       " array([ 0.        ,  0.88888889,  1.77777778,  2.66666667,  3.55555556,\n",
       "         4.44444444,  5.33333333,  6.22222222,  7.11111111,  8.        ]),\n",
       " <a list of 9 Patch objects>)"
      ]
     },
     "execution_count": 81,
     "metadata": {},
     "output_type": "execute_result"
    },
    {
     "data": {
      "image/png": "[encoded data removed]",
      "text/plain": [
       "<matplotlib.figure.Figure at 0x106e80d10>"
      ]
     },
     "metadata": {},
     "output_type": "display_data"
    }
   ],
   "source": [
    "import matplotlib.pyplot as plt\n",
    "%matplotlib inline\n",
    "\n",
    "plt.hist(t_labels, bins = 9)"
   ]
  },
  {
   "cell_type": "code",
   "execution_count": 79,
   "metadata": {
    "collapsed": false
   },
   "outputs": [
    {
     "data": {
      "text/plain": [
       "8335"
      ]
     },
     "execution_count": 79,
     "metadata": {},
     "output_type": "execute_result"
    }
   ],
   "source": [
    "stars = np.array(business_ratings.values())\n",
    "(stars == 3).sum()"
   ]
  },
  {
   "cell_type": "code",
   "execution_count": null,
   "metadata": {
    "collapsed": true
   },
   "outputs": [],
   "source": []
  }
 ],
 "metadata": {
  "kernelspec": {
   "display_name": "Python 2",
   "language": "python",
   "name": "python2"
  },
  "language_info": {
   "codemirror_mode": {
    "name": "ipython",
    "version": 2
   },
   "file_extension": ".py",
   "mimetype": "text/x-python",
   "name": "python",
   "nbconvert_exporter": "python",
   "pygments_lexer": "ipython2",
   "version": "2.7.10"
  }
 },
 "nbformat": 4,
 "nbformat_minor": 0
}
