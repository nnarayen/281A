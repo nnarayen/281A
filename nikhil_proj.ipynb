{
 "cells": [
  {
   "cell_type": "markdown",
   "metadata": {},
   "source": [
    "### Extracting data from the JSON files"
   ]
  },
  {
   "cell_type": "code",
   "execution_count": 63,
   "metadata": {
    "collapsed": true
   },
   "outputs": [],
   "source": [
    "SAMPLE_SIZE = 12000\n",
    "TRAIN_SIZE = 7500\n",
    "CUTOFF = 3\n",
    "TARGET = 5000"
   ]
  },
  {
   "cell_type": "code",
   "execution_count": 12,
   "metadata": {
    "collapsed": false
   },
   "outputs": [],
   "source": [
    "# FOR BINARY CASE\n",
    "\n",
    "import numpy as np\n",
    "import json \n",
    "import pandas\n",
    "from collections import Counter\n",
    "\n",
    "business_ratings = { }\n",
    "business_priors = Counter()\n",
    "\n",
    "for index, line in enumerate(open(\"data/yelp_academic_dataset_business.json\", \"r\")):\n",
    "    json_data = json.loads(line)\n",
    "    rating, bid = int(json_data[\"stars\"]) <= CUTOFF, json_data[\"business_id\"]\n",
    "    if business_priors[rating] < TARGET:\n",
    "        business_ratings[bid] = rating\n",
    "        business_priors[rating] += 1\n",
    "    \n",
    "review_list = []\n",
    "business_index = { }\n",
    "for index, bid in enumerate(business_ratings.keys()):\n",
    "    review_list.append([bid, business_ratings[bid], \"\"])\n",
    "    business_index[bid] = index\n",
    "\n",
    "for line in open(\"data/yelp_academic_dataset_review.json\", \"r\"):\n",
    "    json_data = json.loads(line)\n",
    "    bid = json_data[\"business_id\"]\n",
    "    if bid in business_ratings:\n",
    "        review_list[business_index[bid]][2] += (json_data[\"text\"] + \"\\n\")\n",
    "               \n",
    "review_pd = pandas.DataFrame(review_list, columns = [\"Business ID\", \"Business Rating\", \"Review Text\"])"
   ]
  },
  {
   "cell_type": "code",
   "execution_count": 13,
   "metadata": {
    "collapsed": false,
    "scrolled": false
   },
   "outputs": [
    {
     "data": {
      "text/html": [
       "<div>\n",
       "<table border=\"1\" class=\"dataframe\">\n",
       "  <thead>\n",
       "    <tr style=\"text-align: right;\">\n",
       "      <th></th>\n",
       "      <th>Business ID</th>\n",
       "      <th>Business Rating</th>\n",
       "      <th>Review Text</th>\n",
       "    </tr>\n",
       "  </thead>\n",
       "  <tbody>\n",
       "    <tr>\n",
       "      <th>0</th>\n",
       "      <td>qQ_llmpx3ANoeiyG_6rasA</td>\n",
       "      <td>False</td>\n",
       "      <td>Bill came out to check on our garage door that...</td>\n",
       "    </tr>\n",
       "    <tr>\n",
       "      <th>1</th>\n",
       "      <td>mA6fwSD7HaXL1QG-jkb2Hw</td>\n",
       "      <td>False</td>\n",
       "      <td>Why is it that retail associates either bombar...</td>\n",
       "    </tr>\n",
       "    <tr>\n",
       "      <th>2</th>\n",
       "      <td>ykBWmSL1yDrAob2a20b2DQ</td>\n",
       "      <td>True</td>\n",
       "      <td>This is the place to go for an inexpensive ped...</td>\n",
       "    </tr>\n",
       "    <tr>\n",
       "      <th>3</th>\n",
       "      <td>VZYMInkjRJVHwXVFqeoMWg</td>\n",
       "      <td>True</td>\n",
       "      <td>I know. You are reading this and wanting to ri...</td>\n",
       "    </tr>\n",
       "    <tr>\n",
       "      <th>4</th>\n",
       "      <td>yDnRf8m_YI4AXHVGH6-fuQ</td>\n",
       "      <td>False</td>\n",
       "      <td>Sur La Table ...you sexy thing. You with your ...</td>\n",
       "    </tr>\n",
       "  </tbody>\n",
       "</table>\n",
       "</div>"
      ],
      "text/plain": [
       "              Business ID Business Rating  \\\n",
       "0  qQ_llmpx3ANoeiyG_6rasA           False   \n",
       "1  mA6fwSD7HaXL1QG-jkb2Hw           False   \n",
       "2  ykBWmSL1yDrAob2a20b2DQ            True   \n",
       "3  VZYMInkjRJVHwXVFqeoMWg            True   \n",
       "4  yDnRf8m_YI4AXHVGH6-fuQ           False   \n",
       "\n",
       "                                         Review Text  \n",
       "0  Bill came out to check on our garage door that...  \n",
       "1  Why is it that retail associates either bombar...  \n",
       "2  This is the place to go for an inexpensive ped...  \n",
       "3  I know. You are reading this and wanting to ri...  \n",
       "4  Sur La Table ...you sexy thing. You with your ...  "
      ]
     },
     "execution_count": 13,
     "metadata": {},
     "output_type": "execute_result"
    }
   ],
   "source": [
    "review_pd.head()"
   ]
  },
  {
   "cell_type": "markdown",
   "metadata": {},
   "source": [
    "### Tokenizing the review text"
   ]
  },
  {
   "cell_type": "code",
   "execution_count": 14,
   "metadata": {
    "collapsed": false
   },
   "outputs": [],
   "source": [
    "import sys\n",
    "import string\n",
    "import unicodedata\n",
    "from sklearn.feature_extraction.text import CountVectorizer\n",
    "\n",
    "tbl = dict.fromkeys(i for i in xrange(sys.maxunicode) if unicodedata.category(unichr(i)).startswith('P'))\n",
    "\n",
    "def tokenize(text):\n",
    "    return unicode(text).translate(tbl).lower().split()\n",
    "\n",
    "vectorizer = CountVectorizer()\n",
    "analyze = vectorizer.build_analyzer()\n",
    "\n",
    "review_pd[\"Tokenized Text\"] = review_pd[\"Review Text\"].apply(analyze)"
   ]
  },
  {
   "cell_type": "code",
   "execution_count": 15,
   "metadata": {
    "collapsed": false
   },
   "outputs": [
    {
     "data": {
      "text/html": [
       "<div>\n",
       "<table border=\"1\" class=\"dataframe\">\n",
       "  <thead>\n",
       "    <tr style=\"text-align: right;\">\n",
       "      <th></th>\n",
       "      <th>Business ID</th>\n",
       "      <th>Business Rating</th>\n",
       "      <th>Review Text</th>\n",
       "      <th>Tokenized Text</th>\n",
       "    </tr>\n",
       "  </thead>\n",
       "  <tbody>\n",
       "    <tr>\n",
       "      <th>0</th>\n",
       "      <td>qQ_llmpx3ANoeiyG_6rasA</td>\n",
       "      <td>False</td>\n",
       "      <td>Bill came out to check on our garage door that...</td>\n",
       "      <td>[bill, came, out, to, check, on, our, garage, ...</td>\n",
       "    </tr>\n",
       "    <tr>\n",
       "      <th>1</th>\n",
       "      <td>mA6fwSD7HaXL1QG-jkb2Hw</td>\n",
       "      <td>False</td>\n",
       "      <td>Why is it that retail associates either bombar...</td>\n",
       "      <td>[why, is, it, that, retail, associates, either...</td>\n",
       "    </tr>\n",
       "    <tr>\n",
       "      <th>2</th>\n",
       "      <td>ykBWmSL1yDrAob2a20b2DQ</td>\n",
       "      <td>True</td>\n",
       "      <td>This is the place to go for an inexpensive ped...</td>\n",
       "      <td>[this, is, the, place, to, go, for, an, inexpe...</td>\n",
       "    </tr>\n",
       "    <tr>\n",
       "      <th>3</th>\n",
       "      <td>VZYMInkjRJVHwXVFqeoMWg</td>\n",
       "      <td>True</td>\n",
       "      <td>I know. You are reading this and wanting to ri...</td>\n",
       "      <td>[know, you, are, reading, this, and, wanting, ...</td>\n",
       "    </tr>\n",
       "    <tr>\n",
       "      <th>4</th>\n",
       "      <td>yDnRf8m_YI4AXHVGH6-fuQ</td>\n",
       "      <td>False</td>\n",
       "      <td>Sur La Table ...you sexy thing. You with your ...</td>\n",
       "      <td>[sur, la, table, you, sexy, thing, you, with, ...</td>\n",
       "    </tr>\n",
       "  </tbody>\n",
       "</table>\n",
       "</div>"
      ],
      "text/plain": [
       "              Business ID Business Rating  \\\n",
       "0  qQ_llmpx3ANoeiyG_6rasA           False   \n",
       "1  mA6fwSD7HaXL1QG-jkb2Hw           False   \n",
       "2  ykBWmSL1yDrAob2a20b2DQ            True   \n",
       "3  VZYMInkjRJVHwXVFqeoMWg            True   \n",
       "4  yDnRf8m_YI4AXHVGH6-fuQ           False   \n",
       "\n",
       "                                         Review Text  \\\n",
       "0  Bill came out to check on our garage door that...   \n",
       "1  Why is it that retail associates either bombar...   \n",
       "2  This is the place to go for an inexpensive ped...   \n",
       "3  I know. You are reading this and wanting to ri...   \n",
       "4  Sur La Table ...you sexy thing. You with your ...   \n",
       "\n",
       "                                      Tokenized Text  \n",
       "0  [bill, came, out, to, check, on, our, garage, ...  \n",
       "1  [why, is, it, that, retail, associates, either...  \n",
       "2  [this, is, the, place, to, go, for, an, inexpe...  \n",
       "3  [know, you, are, reading, this, and, wanting, ...  \n",
       "4  [sur, la, table, you, sexy, thing, you, with, ...  "
      ]
     },
     "execution_count": 15,
     "metadata": {},
     "output_type": "execute_result"
    }
   ],
   "source": [
    "review_pd.head()"
   ]
  },
  {
   "cell_type": "code",
   "execution_count": 16,
   "metadata": {
    "collapsed": false
   },
   "outputs": [
    {
     "data": {
      "text/plain": [
       "(10000, 4)"
      ]
     },
     "execution_count": 16,
     "metadata": {},
     "output_type": "execute_result"
    }
   ],
   "source": [
    "review_pd.shape"
   ]
  },
  {
   "cell_type": "markdown",
   "metadata": {},
   "source": [
    "### Baseline Model"
   ]
  },
  {
   "cell_type": "code",
   "execution_count": 32,
   "metadata": {
    "collapsed": false
   },
   "outputs": [
    {
     "name": "stdout",
     "output_type": "stream",
     "text": [
      "0.579\n"
     ]
    }
   ],
   "source": [
    "from sklearn.naive_bayes import GaussianNB\n",
    "import sklearn.metrics as met\n",
    "\n",
    "X = vectorizer.fit_transform(review_pd[\"Review Text\"].values).toarray()\n",
    "y = review_pd[\"Business Rating\"].values\n",
    "\n",
    "mb = GaussianNB()\n",
    "mb.fit(X[:TRAIN_SIZE], y[:TRAIN_SIZE])\n",
    "preds = mb.predict(X[TRAIN_SIZE:])\n",
    "\n",
    "print met.accuracy_score(y[TRAIN_SIZE:], preds)"
   ]
  },
  {
   "cell_type": "code",
   "execution_count": 33,
   "metadata": {
    "collapsed": false
   },
   "outputs": [
    {
     "name": "stdout",
     "output_type": "stream",
     "text": [
      "0.815666666667\n"
     ]
    }
   ],
   "source": [
    "from sklearn.linear_model import LogisticRegression\n",
    "import sklearn.metrics as met\n",
    "\n",
    "mb = LogisticRegression()\n",
    "mb.fit(X[:TRAIN_SIZE], y[:TRAIN_SIZE])\n",
    "preds = mb.predict(X[TRAIN_SIZE:])\n",
    "\n",
    "print met.accuracy_score(y[TRAIN_SIZE:], preds)"
   ]
  },
  {
   "cell_type": "markdown",
   "metadata": {},
   "source": [
    "### Manipulating data into LabeledSentences"
   ]
  },
  {
   "cell_type": "code",
   "execution_count": 18,
   "metadata": {
    "collapsed": true
   },
   "outputs": [],
   "source": [
    "from gensim.models.doc2vec import LabeledSentence\n",
    "import numpy as np\n",
    "\n",
    "class LabeledSentences:\n",
    "    \n",
    "    def __init__(self, series):\n",
    "        self.series = series\n",
    "        \n",
    "    def __iter__(self):\n",
    "        indexes = list(np.arange(len(self.series)))\n",
    "        np.random.shuffle(indexes)\n",
    "        for (index, wordlist) in self.series.iloc[indexes].iteritems():\n",
    "            yield LabeledSentence(words = wordlist, tags = ['VEC_%s' % index])\n",
    "            \n",
    "sentences = LabeledSentences(review_pd[\"Tokenized Text\"].copy())"
   ]
  },
  {
   "cell_type": "markdown",
   "metadata": {},
   "source": [
    "### Learn vector representations for each word via Word2Vec"
   ]
  },
  {
   "cell_type": "code",
   "execution_count": 35,
   "metadata": {
    "collapsed": false
   },
   "outputs": [],
   "source": [
    "import multiprocessing\n",
    "import gensim\n",
    "from gensim.models import Doc2Vec\n",
    "\n",
    "assert gensim.models.doc2vec.FAST_VERSION > -1, \"This will be slow otherwise\"\n",
    "cores = multiprocessing.cpu_count()\n",
    "\n",
    "model1 = Doc2Vec(dm = 1, min_count = 1, window = 5, size = 160, sample = 1e-4, negative = 5, \n",
    "                workers = cores, alpha = 0.025, min_alpha = 0.025)\n",
    "model2 = Doc2Vec(dm = 0, min_count = 1, window = 10, size = 160, sample = 1e-4, negative = 5, \n",
    "                workers = cores, alpha = 0.025, min_alpha = 0.025)\n",
    "model1.build_vocab(sentences)\n",
    "model2.build_vocab(sentences)"
   ]
  },
  {
   "cell_type": "code",
   "execution_count": 3,
   "metadata": {
    "collapsed": false
   },
   "outputs": [
    {
     "data": {
      "image/png": "[encoded data removed]",
      "text/plain": [
       "<matplotlib.figure.Figure at 0x10683d090>"
      ]
     },
     "metadata": {},
     "output_type": "display_data"
    }
   ],
   "source": [
    "import numpy as np\n",
    "\n",
    "%matplotlib inline\n",
    "import matplotlib.pyplot as plt\n",
    "plt.xlabel(\"Context Window Size\")\n",
    "plt.ylabel(\"Prediction Accuracy\")\n",
    "plt.plot(np.arange(5, 15), [0.868, 0.8633, 0.8701, 0.8693, 0.8702, 0.8674, 0.873, 0.877, 0.8681, 0.8718])\n",
    "plt.show()"
   ]
  },
  {
   "cell_type": "markdown",
   "metadata": {},
   "source": [
    "### Learn vector representations for each review text via Doc2Vec"
   ]
  },
  {
   "cell_type": "code",
   "execution_count": 38,
   "metadata": {
    "collapsed": false
   },
   "outputs": [
    {
     "name": "stdout",
     "output_type": "stream",
     "text": [
      "Done 0\n",
      "Done 1\n",
      "Done 2\n",
      "Done 3\n",
      "Done 4\n",
      "Done 5\n",
      "Done 6\n",
      "Done 7\n",
      "Done 8\n",
      "Done 9\n"
     ]
    }
   ],
   "source": [
    "for epoch in range(10):\n",
    "    model1.train(sentences)\n",
    "    model2.train(sentences)\n",
    "    model1.alpha -= 0.002\n",
    "    model1.min_alpha = model1.alpha\n",
    "    model2.alpha -= 0.002\n",
    "    model2.min_alpha = model2.alpha\n",
    "    print 'Done %s' % epoch"
   ]
  },
  {
   "cell_type": "markdown",
   "metadata": {
    "collapsed": true
   },
   "source": [
    "### Concatenate Review Rating with Vector"
   ]
  },
  {
   "cell_type": "code",
   "execution_count": 68,
   "metadata": {
    "collapsed": false
   },
   "outputs": [
    {
     "name": "stdout",
     "output_type": "stream",
     "text": [
      "0.8336\n",
      "0.8196\n",
      "0.832\n",
      "0.8316\n",
      "0.8312\n",
      "0.8304\n",
      "0.8256\n",
      "0.826\n",
      "0.8212\n",
      "0.8284\n",
      "0.824\n",
      "0.8256\n",
      "0.8364\n",
      "0.84\n",
      "0.8208\n",
      "0.8224\n",
      "0.8204\n",
      "0.8392\n",
      "0.8192\n",
      "0.832\n",
      "0.8276\n",
      "0.8336\n",
      "0.8316\n",
      "0.8252\n",
      "0.82\n",
      "0.8268\n",
      "0.8312\n",
      "0.816\n",
      "0.8296\n",
      "0.8248\n",
      "0.828\n",
      "0.8236\n",
      "0.8268\n",
      "0.8296\n",
      "0.8208\n",
      "0.8236\n",
      "0.8276\n",
      "0.8136\n",
      "0.8216\n",
      "0.8216\n",
      "0.8208\n",
      "0.8336\n",
      "0.8272\n",
      "0.812\n",
      "0.818\n",
      "0.8256\n",
      "0.8268\n",
      "0.8204\n",
      "0.8308\n",
      "0.824\n",
      "0.84\n"
     ]
    }
   ],
   "source": [
    "from sklearn.linear_model import LogisticRegression\n",
    "import sklearn.metrics as met\n",
    "best = -1\n",
    "for _ in range(50):\n",
    "    design_matrix, labels = [], []\n",
    "    test_matrix, t_labels = [], []\n",
    "\n",
    "    train_indices = set(np.random.choice(np.arange(len(model1.docvecs)), replace=False, size=TRAIN_SIZE))\n",
    "    for index in xrange(len(model1.docvecs)):\n",
    "        key = (\"VEC_%s\") % (index)\n",
    "        if index in train_indices:\n",
    "            design_matrix.append(np.append(model1.docvecs[key], model2.docvecs[key]))\n",
    "            labels.append(review_pd[\"Business Rating\"][index])\n",
    "        else:\n",
    "            test_matrix.append(np.append(model1.docvecs[key], model2.docvecs[key]))\n",
    "            t_labels.append(review_pd[\"Business Rating\"][index])\n",
    "\n",
    "    design_matrix = np.array(design_matrix)\n",
    "    labels = np.array(labels)\n",
    "\n",
    "    test_matrix = np.array(test_matrix)\n",
    "    t_labels = np.array(t_labels)\n",
    "    \n",
    "    \n",
    "    logreg = LogisticRegression()\n",
    "    logreg.fit(design_matrix, labels)\n",
    "\n",
    "    preds = logreg.predict(test_matrix)\n",
    "    print met.accuracy_score(t_labels, preds)\n",
    "    best = max(best, met.accuracy_score(t_labels, preds))\n",
    "\n",
    "print best"
   ]
  },
  {
   "cell_type": "code",
   "execution_count": 17,
   "metadata": {
    "collapsed": false
   },
   "outputs": [
    {
     "data": {
      "text/plain": [
       "(array([    0.,     0.,   103.,   165.,   371.,   763.,  1241.,  1924.,\n",
       "         1969.,  1417.,  1047.]),\n",
       " array([ 0. ,  0.5,  1. ,  1.5,  2. ,  2.5,  3. ,  3.5,  4. ,  4.5,  5. ,\n",
       "         5.5]),\n",
       " <a list of 11 Patch objects>)"
      ]
     },
     "execution_count": 17,
     "metadata": {},
     "output_type": "execute_result"
    },
    {
     "data": {
      "image/png": "[encoded data removed]",
      "text/plain": [
       "<matplotlib.figure.Figure at 0x191855c10>"
      ]
     },
     "metadata": {},
     "output_type": "display_data"
    }
   ],
   "source": [
    "%matplotlib inline\n",
    "import matplotlib.pyplot as plt\n",
    "plt.hist(labels,bins=[0, 0.5, 1, 1.5, 2, 2.5, 3, 3.5, 4, 4.5, 5, 5.5])"
   ]
  },
  {
   "cell_type": "code",
   "execution_count": 24,
   "metadata": {
    "collapsed": false
   },
   "outputs": [],
   "source": [
    "labels_binary = (labels >= 3).astype(int)\n",
    "t_labels_binary = (t_labels >= 3).astype(int)"
   ]
  },
  {
   "cell_type": "code",
   "execution_count": 26,
   "metadata": {
    "collapsed": false
   },
   "outputs": [
    {
     "data": {
      "text/plain": [
       "array([0, 0, 0, ..., 0, 0, 0])"
      ]
     },
     "execution_count": 26,
     "metadata": {},
     "output_type": "execute_result"
    }
   ],
   "source": []
  },
  {
   "cell_type": "code",
   "execution_count": 25,
   "metadata": {
    "collapsed": false
   },
   "outputs": [
    {
     "data": {
      "text/plain": [
       "0.0"
      ]
     },
     "execution_count": 25,
     "metadata": {},
     "output_type": "execute_result"
    }
   ],
   "source": [
    "t_labels_binary.sum() * 1.0 / len(t_labels_binary)"
   ]
  },
  {
   "cell_type": "markdown",
   "metadata": {},
   "source": [
    "### Input data into Binomial Model"
   ]
  },
  {
   "cell_type": "code",
   "execution_count": 65,
   "metadata": {
    "collapsed": false
   },
   "outputs": [
    {
     "name": "stdout",
     "output_type": "stream",
     "text": [
      "0.8384\n"
     ]
    }
   ],
   "source": [
    "from sklearn.linear_model import LogisticRegression\n",
    "import sklearn.metrics as met\n",
    "\n",
    "logreg = LogisticRegression()\n",
    "logreg.fit(design_matrix, labels)\n",
    "\n",
    "preds = logreg.predict(test_matrix)\n",
    "print met.accuracy_score(t_labels, preds)"
   ]
  },
  {
   "cell_type": "code",
   "execution_count": 35,
   "metadata": {
    "collapsed": false
   },
   "outputs": [
    {
     "data": {
      "text/plain": [
       "array([[1254,  292],\n",
       "       [ 241, 1213]])"
      ]
     },
     "execution_count": 35,
     "metadata": {},
     "output_type": "execute_result"
    }
   ],
   "source": [
    "met.confusion_matrix(t_labels_binary, preds)"
   ]
  },
  {
   "cell_type": "code",
   "execution_count": 36,
   "metadata": {
    "collapsed": false
   },
   "outputs": [
    {
     "data": {
      "text/plain": [
       "0.80598006644518272"
      ]
     },
     "execution_count": 36,
     "metadata": {},
     "output_type": "execute_result"
    }
   ],
   "source": [
    "met.precision_score(t_labels_binary, preds)"
   ]
  },
  {
   "cell_type": "code",
   "execution_count": 37,
   "metadata": {
    "collapsed": false
   },
   "outputs": [
    {
     "data": {
      "text/plain": [
       "0.83425034387895458"
      ]
     },
     "execution_count": 37,
     "metadata": {},
     "output_type": "execute_result"
    }
   ],
   "source": [
    "met.recall_score(t_labels_binary, preds)"
   ]
  },
  {
   "cell_type": "markdown",
   "metadata": {},
   "source": [
    "### Sentiment Exploration"
   ]
  },
  {
   "cell_type": "code",
   "execution_count": 12,
   "metadata": {
    "collapsed": false
   },
   "outputs": [
    {
     "data": {
      "text/plain": [
       "[(u'storesbusinesses', 0.21904942393302917),\n",
       " (u'sharpening', 0.21502238512039185),\n",
       " (u'vitrineskylight', 0.2082488089799881),\n",
       " (u'norfolk', 0.2068164348602295),\n",
       " (u'churned', 0.20456013083457947),\n",
       " (u'tiburon', 0.20357173681259155),\n",
       " (u'pastriesdo', 0.19825713336467743),\n",
       " (u'scotchguard', 0.19718888401985168),\n",
       " (u'surveiller', 0.1971379816532135),\n",
       " (u'76$', 0.1965305209159851)]"
      ]
     },
     "execution_count": 12,
     "metadata": {},
     "output_type": "execute_result"
    }
   ],
   "source": [
    "model.most_similar('busy')"
   ]
  },
  {
   "cell_type": "code",
   "execution_count": 13,
   "metadata": {
    "collapsed": false,
    "scrolled": true
   },
   "outputs": [
    {
     "data": {
      "text/plain": [
       "[(u'pointsgreat', 0.22538119554519653),\n",
       " (u'rangoona', 0.21524882316589355),\n",
       " (u'newsletter', 0.20920872688293457),\n",
       " (u'strikeinthecitycom', 0.20919795334339142),\n",
       " (u'soupsquality', 0.2076713591814041),\n",
       " (u'firefighters', 0.20400795340538025),\n",
       " (u'depicted', 0.20284488797187805),\n",
       " (u'riski', 0.20240798592567444),\n",
       " (u'httpwwwyelpcombizppmyihmcil5bocusjssdwahrid=m3r1tfbnwtzgb8xxuclja',\n",
       "  0.20213507115840912),\n",
       " (u'lanky', 0.20079487562179565)]"
      ]
     },
     "execution_count": 13,
     "metadata": {},
     "output_type": "execute_result"
    }
   ],
   "source": [
    "model.most_similar('good')"
   ]
  },
  {
   "cell_type": "code",
   "execution_count": 27,
   "metadata": {
    "collapsed": false
   },
   "outputs": [
    {
     "data": {
      "text/plain": [
       "[(u'terisa', 0.5031445026397705),\n",
       " (u'reviewpost', 0.4956582188606262),\n",
       " (u'slowsince', 0.4931017756462097),\n",
       " (u'pratice', 0.4908463954925537),\n",
       " (u'televisi\\xf3n', 0.4890173375606537),\n",
       " (u'customer', 0.48583510518074036),\n",
       " (u'food', 0.4808298945426941),\n",
       " (u'presentation', 0.4737012982368469),\n",
       " (u'ambience', 0.47268861532211304),\n",
       " (u'ambiance', 0.47012561559677124)]"
      ]
     },
     "execution_count": 27,
     "metadata": {},
     "output_type": "execute_result"
    }
   ],
   "source": [
    "model.most_similar('service')"
   ]
  },
  {
   "cell_type": "markdown",
   "metadata": {
    "collapsed": true
   },
   "source": [
    "### Input data into Multiclass Logistic Regression Model"
   ]
  },
  {
   "cell_type": "code",
   "execution_count": 2,
   "metadata": {
    "collapsed": false
   },
   "outputs": [],
   "source": [
    "# FOR MULTINOMIAL CASE\n",
    "\n",
    "import numpy as np\n",
    "import json \n",
    "import pandas\n",
    "from collections import Counter\n",
    "\n",
    "TARGET = 2000\n",
    "business_classes = { 1 : 0, 1.5: 0, 2: 0, 2.5 : 0, 3 : 1, 3.5 : 2, 4 : 3, 4.5 : 4, 5 : 5 }\n",
    "business_priors = Counter()\n",
    "business_ratings = { }\n",
    "\n",
    "for index, line in enumerate(open(\"data/yelp_academic_dataset_business.json\", \"r\")):\n",
    "    json_data = json.loads(line)\n",
    "    rating, bid = json_data[\"stars\"], json_data[\"business_id\"]\n",
    "    if business_priors[business_classes[rating]] < TARGET:\n",
    "        business_priors[business_classes[rating]] += 1\n",
    "        business_ratings[bid] = rating\n",
    "    \n",
    "review_list = []\n",
    "business_index = { }\n",
    "for index, bid in enumerate(business_ratings.keys()):\n",
    "    review_list.append([bid, business_ratings[bid], \"\"])\n",
    "    business_index[bid] = index\n",
    "\n",
    "for line in open(\"data/yelp_academic_dataset_review.json\", \"r\"):\n",
    "    json_data = json.loads(line)\n",
    "    bid = json_data[\"business_id\"]\n",
    "    if bid in business_ratings:\n",
    "        review_list[business_index[bid]][2] += (json_data[\"text\"] + \"\\n\")\n",
    "               \n",
    "review_pd = pandas.DataFrame(review_list, columns = [\"Business ID\", \"Business Rating\", \"Review Text\"])"
   ]
  },
  {
   "cell_type": "code",
   "execution_count": 6,
   "metadata": {
    "collapsed": false,
    "scrolled": true
   },
   "outputs": [
    {
     "data": {
      "text/html": [
       "<div>\n",
       "<table border=\"1\" class=\"dataframe\">\n",
       "  <thead>\n",
       "    <tr style=\"text-align: right;\">\n",
       "      <th></th>\n",
       "      <th>Business ID</th>\n",
       "      <th>Business Rating</th>\n",
       "      <th>Review Text</th>\n",
       "      <th>Tokenized Text</th>\n",
       "    </tr>\n",
       "  </thead>\n",
       "  <tbody>\n",
       "    <tr>\n",
       "      <th>0</th>\n",
       "      <td>qQ_llmpx3ANoeiyG_6rasA</td>\n",
       "      <td>5.0</td>\n",
       "      <td>Bill came out to check on our garage door that...</td>\n",
       "      <td>[bill, came, out, to, check, on, our, garage, ...</td>\n",
       "    </tr>\n",
       "    <tr>\n",
       "      <th>1</th>\n",
       "      <td>mA6fwSD7HaXL1QG-jkb2Hw</td>\n",
       "      <td>4.0</td>\n",
       "      <td>Why is it that retail associates either bombar...</td>\n",
       "      <td>[why, is, it, that, retail, associates, either...</td>\n",
       "    </tr>\n",
       "    <tr>\n",
       "      <th>2</th>\n",
       "      <td>ykBWmSL1yDrAob2a20b2DQ</td>\n",
       "      <td>2.5</td>\n",
       "      <td>This is the place to go for an inexpensive ped...</td>\n",
       "      <td>[this, is, the, place, to, go, for, an, inexpe...</td>\n",
       "    </tr>\n",
       "    <tr>\n",
       "      <th>3</th>\n",
       "      <td>VZYMInkjRJVHwXVFqeoMWg</td>\n",
       "      <td>3.5</td>\n",
       "      <td>I know. You are reading this and wanting to ri...</td>\n",
       "      <td>[i, know, you, are, reading, this, and, wantin...</td>\n",
       "    </tr>\n",
       "    <tr>\n",
       "      <th>4</th>\n",
       "      <td>GXNLitPTpkBwc_IXGzBEvQ</td>\n",
       "      <td>4.5</td>\n",
       "      <td>Edited as of July 16, 2010 to make this a 5 st...</td>\n",
       "      <td>[edited, as, of, july, 16, 2010, to, make, thi...</td>\n",
       "    </tr>\n",
       "  </tbody>\n",
       "</table>\n",
       "</div>"
      ],
      "text/plain": [
       "              Business ID  Business Rating  \\\n",
       "0  qQ_llmpx3ANoeiyG_6rasA              5.0   \n",
       "1  mA6fwSD7HaXL1QG-jkb2Hw              4.0   \n",
       "2  ykBWmSL1yDrAob2a20b2DQ              2.5   \n",
       "3  VZYMInkjRJVHwXVFqeoMWg              3.5   \n",
       "4  GXNLitPTpkBwc_IXGzBEvQ              4.5   \n",
       "\n",
       "                                         Review Text  \\\n",
       "0  Bill came out to check on our garage door that...   \n",
       "1  Why is it that retail associates either bombar...   \n",
       "2  This is the place to go for an inexpensive ped...   \n",
       "3  I know. You are reading this and wanting to ri...   \n",
       "4  Edited as of July 16, 2010 to make this a 5 st...   \n",
       "\n",
       "                                      Tokenized Text  \n",
       "0  [bill, came, out, to, check, on, our, garage, ...  \n",
       "1  [why, is, it, that, retail, associates, either...  \n",
       "2  [this, is, the, place, to, go, for, an, inexpe...  \n",
       "3  [i, know, you, are, reading, this, and, wantin...  \n",
       "4  [edited, as, of, july, 16, 2010, to, make, thi...  "
      ]
     },
     "execution_count": 6,
     "metadata": {},
     "output_type": "execute_result"
    }
   ],
   "source": [
    "review_pd[\"Tokenized Text\"] = review_pd[\"Review Text\"].apply(tokenize)\n",
    "review_pd.head()"
   ]
  },
  {
   "cell_type": "code",
   "execution_count": 49,
   "metadata": {
    "collapsed": false
   },
   "outputs": [],
   "source": [
    "design_matrix, labels = [], []\n",
    "test_matrix, t_labels = [], []\n",
    "\n",
    "train_indices = set(np.random.choice(np.arange(len(model.docvecs)), replace=False, size=TRAIN_SIZE))\n",
    "for index in xrange(len(model.docvecs)):\n",
    "    key = (\"VEC_%s\") % (index)\n",
    "    if index in train_indices:\n",
    "        design_matrix.append(model.docvecs[key])\n",
    "        labels.append(business_classes[review_pd[\"Business Rating\"][index]])\n",
    "    else:\n",
    "        test_matrix.append(model.docvecs[key])\n",
    "        t_labels.append(business_classes[review_pd[\"Business Rating\"][index]])\n",
    "    \n",
    "design_matrix = np.array(design_matrix)\n",
    "labels = np.array(labels).astype(int)\n",
    "\n",
    "test_matrix = np.array(test_matrix)\n",
    "t_labels = np.array(t_labels).astype(int)"
   ]
  },
  {
   "cell_type": "code",
   "execution_count": 50,
   "metadata": {
    "collapsed": false
   },
   "outputs": [
    {
     "name": "stdout",
     "output_type": "stream",
     "text": [
      "0.475333333333\n"
     ]
    }
   ],
   "source": [
    "from sklearn.linear_model import LogisticRegression\n",
    "import sklearn.metrics as met\n",
    "\n",
    "logreg = LogisticRegression(multi_class = \"multinomial\", solver = \"lbfgs\")\n",
    "logreg.fit(design_matrix, labels)\n",
    "\n",
    "preds = logreg.predict(test_matrix)\n",
    "print met.accuracy_score(t_labels, preds)"
   ]
  },
  {
   "cell_type": "code",
   "execution_count": 19,
   "metadata": {
    "collapsed": false
   },
   "outputs": [
    {
     "data": {
      "text/plain": [
       "(array([ 530.,  520.,  492.,  497.,  475.,  486.]),\n",
       " array([ 0.        ,  0.83333333,  1.66666667,  2.5       ,  3.33333333,\n",
       "         4.16666667,  5.        ]),\n",
       " <a list of 6 Patch objects>)"
      ]
     },
     "execution_count": 19,
     "metadata": {},
     "output_type": "execute_result"
    },
    {
     "data": {
      "image/png": "[encoded data removed]",
      "text/plain": [
       "<matplotlib.figure.Figure at 0x17f4cba10>"
      ]
     },
     "metadata": {},
     "output_type": "display_data"
    }
   ],
   "source": [
    "import matplotlib.pyplot as plt\n",
    "%matplotlib inline\n",
    "\n",
    "plt.hist(t_labels, bins = 6)"
   ]
  },
  {
   "cell_type": "code",
   "execution_count": 79,
   "metadata": {
    "collapsed": false
   },
   "outputs": [
    {
     "data": {
      "text/plain": [
       "8335"
      ]
     },
     "execution_count": 79,
     "metadata": {},
     "output_type": "execute_result"
    }
   ],
   "source": [
    "stars = np.array(business_ratings.values())\n",
    "(stars == 3).sum()"
   ]
  },
  {
   "cell_type": "code",
   "execution_count": null,
   "metadata": {
    "collapsed": true
   },
   "outputs": [],
   "source": []
  }
 ],
 "metadata": {
  "kernelspec": {
   "display_name": "Python 2",
   "language": "python",
   "name": "python2"
  },
  "language_info": {
   "codemirror_mode": {
    "name": "ipython",
    "version": 2
   },
   "file_extension": ".py",
   "mimetype": "text/x-python",
   "name": "python",
   "nbconvert_exporter": "python",
   "pygments_lexer": "ipython2",
   "version": "2.7.10"
  }
 },
 "nbformat": 4,
 "nbformat_minor": 0
}
