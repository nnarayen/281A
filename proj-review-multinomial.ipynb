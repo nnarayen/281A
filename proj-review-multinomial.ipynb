{
 "cells": [
  {
   "cell_type": "markdown",
   "metadata": {},
   "source": [
    "### Extracting data from the JSON files"
   ]
  },
  {
   "cell_type": "code",
   "execution_count": 2,
   "metadata": {
    "collapsed": true
   },
   "outputs": [],
   "source": [
    "import numpy as np\n",
    "import json \n",
    "import pandas"
   ]
  },
  {
   "cell_type": "code",
   "execution_count": 3,
   "metadata": {
    "collapsed": true
   },
   "outputs": [],
   "source": [
    "DATA_SIZE = 1569264\n",
    "SAMPLE_SIZE = 130000\n",
    "TRAIN_SIZE = 25000\n",
    "GOAL = 10000"
   ]
  },
  {
   "cell_type": "code",
   "execution_count": 8,
   "metadata": {
    "collapsed": false
   },
   "outputs": [],
   "source": [
    "business_ratings = { }\n",
    "for line in open(\"data/yelp_academic_dataset_business.json\", \"r\"):\n",
    "    json_data = json.loads(line)\n",
    "    business_ratings[json_data[\"business_id\"]] = json_data[\"stars\"]\n",
    "#selected_businesses = set(np.random.choice(business_ratings.keys(), size = 2000, replace = False))\n",
    "    \n",
    "review_list = []\n",
    "\n",
    "selected = set(np.random.choice(np.arange(DATA_SIZE), size=SAMPLE_SIZE, replace=False))\n",
    "counters = {i: 0 for i in range(1, 6)}\n",
    "for line_num, line in enumerate(open(\"data/yelp_academic_dataset_review.json\", \"r\")):\n",
    "    if line_num in selected:\n",
    "        json_data = json.loads(line)\n",
    "        stars = json_data[\"stars\"]\n",
    "        if (counters[stars] < GOAL):\n",
    "            review_list.append([json_data[\"review_id\"], json_data[\"stars\"], json_data[\"text\"], json_data[\"business_id\"]])\n",
    "            counters[stars] += 1\n",
    "            \n",
    "review_pd = pandas.DataFrame(review_list, columns = [\"Review ID\", \"Stars\", \"Review Text\", \"Business ID\"])"
   ]
  },
  {
   "cell_type": "markdown",
   "metadata": {},
   "source": [
    "### Tokenizing the review text"
   ]
  },
  {
   "cell_type": "code",
   "execution_count": 10,
   "metadata": {
    "collapsed": false
   },
   "outputs": [],
   "source": [
    "import unicodedata\n",
    "import sys\n",
    "import unicodedata\n",
    "tbl = dict.fromkeys(i for i in range(sys.maxunicode) if unicodedata.category(unichr(i)).startswith('P'))\n",
    "\n",
    "def tokenize(text):\n",
    "    return text.translate(tbl).lower().split()\n",
    "\n",
    "review_pd[\"Tokenized Text\"] = review_pd[\"Review Text\"].apply(tokenize)"
   ]
  },
  {
   "cell_type": "code",
   "execution_count": 11,
   "metadata": {
    "collapsed": false
   },
   "outputs": [
    {
     "data": {
      "text/plain": [
       "(50000, 5)"
      ]
     },
     "execution_count": 11,
     "metadata": {},
     "output_type": "execute_result"
    }
   ],
   "source": [
    "review_pd.shape"
   ]
  },
  {
   "cell_type": "code",
   "execution_count": 12,
   "metadata": {
    "collapsed": false
   },
   "outputs": [
    {
     "data": {
      "text/html": [
       "<div>\n",
       "<table border=\"1\" class=\"dataframe\">\n",
       "  <thead>\n",
       "    <tr style=\"text-align: right;\">\n",
       "      <th></th>\n",
       "      <th>Review ID</th>\n",
       "      <th>Review Text</th>\n",
       "      <th>Business ID</th>\n",
       "      <th>Tokenized Text</th>\n",
       "    </tr>\n",
       "    <tr>\n",
       "      <th>Stars</th>\n",
       "      <th></th>\n",
       "      <th></th>\n",
       "      <th></th>\n",
       "      <th></th>\n",
       "    </tr>\n",
       "  </thead>\n",
       "  <tbody>\n",
       "    <tr>\n",
       "      <th>1</th>\n",
       "      <td>10000</td>\n",
       "      <td>10000</td>\n",
       "      <td>10000</td>\n",
       "      <td>10000</td>\n",
       "    </tr>\n",
       "    <tr>\n",
       "      <th>2</th>\n",
       "      <td>10000</td>\n",
       "      <td>10000</td>\n",
       "      <td>10000</td>\n",
       "      <td>10000</td>\n",
       "    </tr>\n",
       "    <tr>\n",
       "      <th>3</th>\n",
       "      <td>10000</td>\n",
       "      <td>10000</td>\n",
       "      <td>10000</td>\n",
       "      <td>10000</td>\n",
       "    </tr>\n",
       "    <tr>\n",
       "      <th>4</th>\n",
       "      <td>10000</td>\n",
       "      <td>10000</td>\n",
       "      <td>10000</td>\n",
       "      <td>10000</td>\n",
       "    </tr>\n",
       "    <tr>\n",
       "      <th>5</th>\n",
       "      <td>10000</td>\n",
       "      <td>10000</td>\n",
       "      <td>10000</td>\n",
       "      <td>10000</td>\n",
       "    </tr>\n",
       "  </tbody>\n",
       "</table>\n",
       "</div>"
      ],
      "text/plain": [
       "       Review ID  Review Text  Business ID  Tokenized Text\n",
       "Stars                                                     \n",
       "1          10000        10000        10000           10000\n",
       "2          10000        10000        10000           10000\n",
       "3          10000        10000        10000           10000\n",
       "4          10000        10000        10000           10000\n",
       "5          10000        10000        10000           10000"
      ]
     },
     "execution_count": 12,
     "metadata": {},
     "output_type": "execute_result"
    }
   ],
   "source": [
    "%matplotlib inline\n",
    "review_pd.groupby(\"Stars\").count()"
   ]
  },
  {
   "cell_type": "code",
   "execution_count": 14,
   "metadata": {
    "collapsed": false
   },
   "outputs": [],
   "source": [
    "review_pd.to_json('data/review_multinomial.json', orient=\"records\")"
   ]
  },
  {
   "cell_type": "markdown",
   "metadata": {},
   "source": [
    "### Manipulating data into LabeledSentences"
   ]
  },
  {
   "cell_type": "code",
   "execution_count": 5,
   "metadata": {
    "collapsed": false
   },
   "outputs": [],
   "source": [
    "review_pd = pandas.read_json('data/review_multinomial.json', orient=\"records\")"
   ]
  },
  {
   "cell_type": "code",
   "execution_count": 36,
   "metadata": {
    "collapsed": true
   },
   "outputs": [],
   "source": [
    "from gensim.models.doc2vec import LabeledSentence\n",
    "import numpy as np\n",
    "\n",
    "class LabeledSentences:\n",
    "    \n",
    "    def __init__(self, series):\n",
    "        self.series = series\n",
    "        \n",
    "    def __iter__(self):\n",
    "        indexes = list(np.arange(len(self.series)))\n",
    "        np.random.shuffle(indexes)\n",
    "        for (index, wordlist) in self.series.iloc[indexes].iteritems():\n",
    "        #for (index, wordlist) in self.series.iteritems():\n",
    "            yield LabeledSentence(words = wordlist, tags = ['VEC_%s' % index])\n",
    "            \n",
    "sentences = LabeledSentences(review_pd[\"Tokenized Text\"].copy())"
   ]
  },
  {
   "cell_type": "markdown",
   "metadata": {},
   "source": [
    "### Learn vector representations for each word via Word2Vec"
   ]
  },
  {
   "cell_type": "code",
   "execution_count": 47,
   "metadata": {
    "collapsed": false
   },
   "outputs": [],
   "source": [
    "import multiprocessing\n",
    "import gensim\n",
    "from gensim.models import Doc2Vec\n",
    "\n",
    "assert gensim.models.doc2vec.FAST_VERSION > -1, \"This will be slow otherwise\"\n",
    "cores = multiprocessing.cpu_count()\n",
    "\n",
    "model = Doc2Vec(dm = 1, dm_concat = 0, min_count = 1, window = 10, size = 100, sample = 1e-4, negative = 5, \n",
    "                workers = cores, alpha = 0.03, min_alpha = 0.03)\n",
    "model.build_vocab(sentences)"
   ]
  },
  {
   "cell_type": "markdown",
   "metadata": {},
   "source": [
    "### Learn vector representations for each review text via Doc2Vec"
   ]
  },
  {
   "cell_type": "code",
   "execution_count": 48,
   "metadata": {
    "collapsed": false
   },
   "outputs": [],
   "source": [
    "for epoch in range(10):\n",
    "    model.train(sentences)\n",
    "    #model.alpha -= 0.002\n",
    "    #model.min_alpha = model.alpha"
   ]
  },
  {
   "cell_type": "markdown",
   "metadata": {
    "collapsed": true
   },
   "source": [
    "### Concatenate Review Rating with Vector"
   ]
  },
  {
   "cell_type": "code",
   "execution_count": 6,
   "metadata": {
    "collapsed": true
   },
   "outputs": [],
   "source": [
    "from sklearn.feature_extraction.text import CountVectorizer\n",
    "\n",
    "vectorizer = CountVectorizer()\n",
    "X = vectorizer.fit_transform(review_pd[\"Review Text\"].values)\n",
    "y = review_pd['Stars'].values"
   ]
  },
  {
   "cell_type": "code",
   "execution_count": 8,
   "metadata": {
    "collapsed": false
   },
   "outputs": [
    {
     "data": {
      "text/plain": [
       "(array([     0.,  10000.,  10000.,  10000.,  10000.,  10000.]),\n",
       " array([0, 1, 2, 3, 4, 5, 6]),\n",
       " <a list of 6 Patch objects>)"
      ]
     },
     "execution_count": 8,
     "metadata": {},
     "output_type": "execute_result"
    },
    {
     "data": {
      "image/png": "[encoded data removed]",
      "text/plain": [
       "<matplotlib.figure.Figure at 0x12cc6e750>"
      ]
     },
     "metadata": {},
     "output_type": "display_data"
    }
   ],
   "source": [
    "%matplotlib inline\n",
    "import matplotlib.pyplot as plt\n",
    "plt.hist(y,bins=[0, 1, 2, 3, 4, 5, 6])"
   ]
  },
  {
   "cell_type": "code",
   "execution_count": 49,
   "metadata": {
    "collapsed": false
   },
   "outputs": [],
   "source": [
    "X, y = [], []\n",
    "\n",
    "# train_indices = set(np.random.choice(np.arange(len(model.docvecs)), replace=False, size=TRAIN_SIZE))\n",
    "for index in xrange(len(model.docvecs)):\n",
    "    key = (\"VEC_%s\") % (index)\n",
    "    \n",
    "    X.append(model.docvecs[key])\n",
    "    y.append(review_pd[\"Stars\"][index])\n",
    "\n",
    "    \n",
    "X = np.array(X)\n",
    "y = np.array(y)"
   ]
  },
  {
   "cell_type": "code",
   "execution_count": 10,
   "metadata": {
    "collapsed": false
   },
   "outputs": [
    {
     "data": {
      "text/plain": [
       "(10000, 61498)"
      ]
     },
     "execution_count": 10,
     "metadata": {},
     "output_type": "execute_result"
    }
   ],
   "source": [
    "X[y == 1, :].shape"
   ]
  },
  {
   "cell_type": "code",
   "execution_count": 15,
   "metadata": {
    "collapsed": false
   },
   "outputs": [
    {
     "name": "stdout",
     "output_type": "stream",
     "text": [
      "(10000, 61498)\n",
      "(10000, 61498)\n",
      "(10000, 61498)\n",
      "(10000, 61498)\n",
      "(10000, 61498)\n"
     ]
    }
   ],
   "source": [
    "train_Xs = []\n",
    "test_Xs = []\n",
    "train_ys = []\n",
    "test_ys = []\n",
    "\n",
    "for i in range(1, 6):\n",
    "    X_class_i = X[y == i, :]\n",
    "    print X_class_i.shape\n",
    "    y_class_i = y[y == i]\n",
    "    train_Xs.append(X_class_i[:X_class_i.shape[0] // 2, :])\n",
    "    test_Xs.append(X_class_i[X_class_i.shape[0] // 2:, :])\n",
    "    train_ys.append(y_class_i[:y_class_i.shape[0] // 2])\n",
    "    test_ys.append(y_class_i[y_class_i.shape[0] // 2:])\n",
    "    \n",
    "\n",
    "#train_X = np.concatenate(train_Xs, axis=0)\n",
    "#train_y = np.concatenate(train_ys, axis=0)\n",
    "#test_X = np.concatenate(test_Xs, axis=0)\n",
    "#test_y = np.concatenate(test_ys, axis=0)\n",
    "from scipy.sparse import vstack\n",
    "train_X = vstack(train_Xs)\n",
    "train_y = np.concatenate(train_ys, axis=0)\n",
    "test_X = vstack(test_Xs)\n",
    "test_y = np.concatenate(test_ys, axis=0)\n",
    "\n"
   ]
  },
  {
   "cell_type": "code",
   "execution_count": 16,
   "metadata": {
    "collapsed": false
   },
   "outputs": [
    {
     "data": {
      "text/plain": [
       "(25000, 61498)"
      ]
     },
     "execution_count": 16,
     "metadata": {},
     "output_type": "execute_result"
    }
   ],
   "source": [
    "test_X.shape"
   ]
  },
  {
   "cell_type": "code",
   "execution_count": 31,
   "metadata": {
    "collapsed": false
   },
   "outputs": [
    {
     "data": {
      "text/plain": [
       "(array([    0.,     0.,  5000.,     0.,  5000.,     0.,  5000.,     0.,\n",
       "         5000.,     0.,  5000.]),\n",
       " array([ 0. ,  0.5,  1. ,  1.5,  2. ,  2.5,  3. ,  3.5,  4. ,  4.5,  5. ,\n",
       "         5.5]),\n",
       " <a list of 11 Patch objects>)"
      ]
     },
     "execution_count": 31,
     "metadata": {},
     "output_type": "execute_result"
    },
    {
     "data": {
      "image/png": "[encoded data removed]",
      "text/plain": [
       "<matplotlib.figure.Figure at 0x1359b8550>"
      ]
     },
     "metadata": {},
     "output_type": "display_data"
    }
   ],
   "source": [
    "import matplotlib.pyplot as plt\n",
    "plt.hist(train_y,bins=[0, 0.5, 1, 1.5, 2, 2.5, 3, 3.5, 4, 4.5, 5, 5.5])"
   ]
  },
  {
   "cell_type": "markdown",
   "metadata": {},
   "source": [
    "### Input data into Binomial Model"
   ]
  },
  {
   "cell_type": "code",
   "execution_count": 17,
   "metadata": {
    "collapsed": false
   },
   "outputs": [
    {
     "name": "stdout",
     "output_type": "stream",
     "text": [
      "0.51112\n"
     ]
    }
   ],
   "source": [
    "from sklearn.linear_model import LogisticRegression\n",
    "import sklearn.metrics as met\n",
    "\n",
    "logreg = LogisticRegression(solver='lbfgs', multi_class='multinomial')\n",
    "logreg.fit(train_X, train_y)\n",
    "\n",
    "preds = logreg.predict(test_X)\n",
    "print met.accuracy_score(test_y, preds)"
   ]
  },
  {
   "cell_type": "code",
   "execution_count": 18,
   "metadata": {
    "collapsed": false
   },
   "outputs": [],
   "source": [
    "test_y_indicator = np.zeros((test_y.shape[0], 5))\n",
    "preds_indicator = np.zeros((test_y.shape[0], 5))\n",
    "for i in range(1, 6):\n",
    "    test_y_indicator[:, i-1] = (test_y == i).astype(int)\n",
    "    preds_indicator[:,i-1] = (preds == i).astype(int)\n",
    "\n",
    "#test_y_indicator = np.concatenate(test_y_indicator, axis=1)\n",
    "#preds_indicator = np.concatenate(preds_indicator, axis=1)"
   ]
  },
  {
   "cell_type": "code",
   "execution_count": 77,
   "metadata": {
    "collapsed": false
   },
   "outputs": [
    {
     "data": {
      "text/plain": [
       "0.50139999999999996"
      ]
     },
     "execution_count": 77,
     "metadata": {},
     "output_type": "execute_result"
    }
   ],
   "source": [
    "met.accuracy_score(test_y_indicator, preds_indicator)"
   ]
  },
  {
   "cell_type": "code",
   "execution_count": 19,
   "metadata": {
    "collapsed": false
   },
   "outputs": [
    {
     "data": {
      "text/plain": [
       "0.55928443220655821"
      ]
     },
     "execution_count": 19,
     "metadata": {},
     "output_type": "execute_result"
    }
   ],
   "source": [
    "met.average_precision_score(test_y_indicator, preds_indicator)"
   ]
  },
  {
   "cell_type": "markdown",
   "metadata": {},
   "source": [
    "### Param tuning"
   ]
  },
  {
   "cell_type": "code",
   "execution_count": 78,
   "metadata": {
    "collapsed": false
   },
   "outputs": [
    {
     "name": "stdout",
     "output_type": "stream",
     "text": [
      "training: size = 20\n",
      "accuracy: 0.4602\n",
      "average precision: 0.509918532548\n",
      "training: size = 40\n",
      "accuracy: 0.4786\n",
      "average precision: 0.527859685395\n",
      "training: size = 60\n",
      "accuracy: 0.49448\n",
      "average precision: 0.542344882695\n",
      "training: size = 80\n",
      "accuracy: 0.499\n",
      "average precision: 0.546566394801\n",
      "training: size = 100\n",
      "accuracy: 0.49824\n",
      "average precision: 0.545698931296\n",
      "training: size = 120\n",
      "accuracy: 0.50008\n",
      "average precision: 0.547482420424\n",
      "training: size = 140\n",
      "accuracy: 0.50824\n",
      "average precision: 0.554840165505\n"
     ]
    }
   ],
   "source": [
    "s = 20\n",
    "step = 20\n",
    "\n",
    "\n",
    "while s < 160:\n",
    "    print \"training: size = %s\" % s \n",
    "    cores = multiprocessing.cpu_count()\n",
    "\n",
    "    model = Doc2Vec(min_count = 1, window = 10, size = s, sample = 1e-4, negative = 5, \n",
    "                    workers = cores, alpha = 0.025, min_alpha = 0.025)\n",
    "    model.build_vocab(sentences)\n",
    "\n",
    "    for epoch in range(10):\n",
    "        model.train(sentences)\n",
    "        #model.alpha -= 0.002\n",
    "        #model.min_alpha = model.alpha\n",
    "    \n",
    "    X, y = [], []\n",
    "\n",
    "    # train_indices = set(np.random.choice(np.arange(len(model.docvecs)), replace=False, size=TRAIN_SIZE))\n",
    "    for index in xrange(len(model.docvecs)):\n",
    "        key = (\"VEC_%s\") % (index)\n",
    "\n",
    "        X.append(model.docvecs[key])\n",
    "        y.append(review_pd[\"Stars\"][index])\n",
    "\n",
    "\n",
    "    X = np.array(X)\n",
    "    y = np.array(y)\n",
    "    \n",
    "    train_Xs = []\n",
    "    test_Xs = []\n",
    "    train_ys = []\n",
    "    test_ys = []\n",
    "    for i in range(1, 6):\n",
    "        X_class_i = X[y == i, :]\n",
    "        y_class_i = y[y == i]\n",
    "        train_Xs.append(X_class_i[:X_class_i.shape[0] // 2, :])\n",
    "        test_Xs.append(X_class_i[X_class_i.shape[0] // 2:, :])\n",
    "        train_ys.append(y_class_i[:y_class_i.shape[0] // 2])\n",
    "        test_ys.append(y_class_i[y_class_i.shape[0] // 2:])\n",
    "\n",
    "    train_X = np.concatenate(train_Xs, axis=0)\n",
    "    train_y = np.concatenate(train_ys, axis=0)\n",
    "    test_X = np.concatenate(test_Xs, axis=0)\n",
    "    test_y = np.concatenate(test_ys, axis=0)\n",
    "    \n",
    "    logreg = LogisticRegression(solver='lbfgs', multi_class='multinomial')\n",
    "    logreg.fit(train_X, train_y)\n",
    "\n",
    "    preds = logreg.predict(test_X)\n",
    "    \n",
    "    test_y_indicator = np.zeros((test_y.shape[0], 5))\n",
    "    preds_indicator = np.zeros((test_y.shape[0], 5))\n",
    "    for i in range(1, 6):\n",
    "        test_y_indicator[:, i-1] = (test_y == i).astype(int)\n",
    "        preds_indicator[:,i-1] = (preds == i).astype(int)\n",
    "    \n",
    "    print \"accuracy: %s\" % met.accuracy_score(test_y_indicator, preds_indicator)  \n",
    "    print \"average precision: %s\" % met.average_precision_score(test_y_indicator, preds_indicator)\n",
    "\n",
    "    s += step\n",
    "    \n"
   ]
  }
 ],
 "metadata": {
  "kernelspec": {
   "display_name": "Python 2",
   "language": "python",
   "name": "python2"
  },
  "language_info": {
   "codemirror_mode": {
    "name": "ipython",
    "version": 2
   },
   "file_extension": ".py",
   "mimetype": "text/x-python",
   "name": "python",
   "nbconvert_exporter": "python",
   "pygments_lexer": "ipython2",
   "version": "2.7.10"
  }
 },
 "nbformat": 4,
 "nbformat_minor": 0
}
